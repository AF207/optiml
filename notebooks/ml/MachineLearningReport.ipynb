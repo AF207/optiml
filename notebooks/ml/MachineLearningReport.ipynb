{
 "cells": [
  {
   "cell_type": "code",
   "execution_count": 34,
   "metadata": {},
   "outputs": [],
   "source": [
    "import os\n",
    "import sys\n",
    "\n",
    "module_path = os.path.abspath(os.path.join('../..'))\n",
    "\n",
    "if module_path not in sys.path:\n",
    "    sys.path.append(module_path)"
   ]
  },
  {
   "cell_type": "markdown",
   "metadata": {},
   "source": [
    "# <center>Machine Learning Report</center>\n",
    "### <center>Donato Meoli</center>\n",
    "\n",
    "<center>Machine Learning course 654AA</center>\n",
    "<center>Academic year: 2019/2020</center>\n",
    "\n",
    "<center>Type of project: A with Computational Mathematics</center>"
   ]
  },
  {
   "cell_type": "markdown",
   "metadata": {},
   "source": [
    "## Abstract"
   ]
  },
  {
   "cell_type": "markdown",
   "metadata": {},
   "source": [
    "The aim of this report is to show the results over the *Monk's* classification problem and the *Grid Search* results over **ML-CUP19** regression problem. The latter refers to an academic competition within the Machine Learning course for which a **MEE** of **0.78** was achieved using a **Support Vector Regression** with a **Laplacian kernel**."
   ]
  },
  {
   "cell_type": "markdown",
   "metadata": {},
   "source": [
    "## Introduction"
   ]
  },
  {
   "cell_type": "markdown",
   "metadata": {},
   "source": [
    "This work, in all its parts, was motivated by the possibility of being able to solve the optimization problem deriving from the mathematical formulation of the leraning models through a wide range of optimization algorithms object of study and developed for the *Computational Mathematics* course."
   ]
  },
  {
   "cell_type": "markdown",
   "metadata": {},
   "source": [
    "## Contents"
   ]
  },
  {
   "cell_type": "markdown",
   "metadata": {},
   "source": [
    "This project, for what about the *ml* module, is a sklearn compatible custom reimplementation of *Support Vector Machines* and *Deep Neural Networks*, both with some of the most successful features according to the state of art."
   ]
  },
  {
   "cell_type": "markdown",
   "metadata": {},
   "source": [
    "## Experiments"
   ]
  },
  {
   "cell_type": "markdown",
   "metadata": {},
   "source": [
    "### Monk's Problem"
   ]
  },
  {
   "cell_type": "markdown",
   "metadata": {},
   "source": [
    "In this first section we are going to show firstly how the implementation of both, *Support Vector Machines* and *Neural Networks*, works correctly on Monk’s problem, used as a benchmark for the latter experiments."
   ]
  },
  {
   "cell_type": "markdown",
   "metadata": {},
   "source": [
    "#### Support Vector Classifier"
   ]
  },
  {
   "cell_type": "markdown",
   "metadata": {},
   "source": [
    "In case of *Support Vector Classifier* we are going to use an implementation that exploits the *Wolfe dual* formulation of the latter also to show the kernel trick usage. For what about the optimizer we can choose one method of those available: *SMO Classifier*, *Projected Gradient*, *Active Set*, *Interior Point* or *Frank Wolfe* method.\n",
    "\n",
    "Alternatively, by specifying an unconstrained one, the *Wolfe dual* constraints will be relaxed into a *Lagrangian bi-dual* formulation."
   ]
  },
  {
   "cell_type": "code",
   "execution_count": 35,
   "metadata": {},
   "outputs": [],
   "source": [
    "import numpy as np\n",
    "\n",
    "from optiml.ml.svm import DualSVC\n",
    "from optiml.ml.svm.kernels import PolyKernel\n",
    "\n",
    "from sklearn.datasets import fetch_openml\n",
    "from sklearn.preprocessing import OneHotEncoder\n",
    "from sklearn.metrics import classification_report"
   ]
  },
  {
   "cell_type": "markdown",
   "metadata": {},
   "source": [
    "##### Monk #1"
   ]
  },
  {
   "cell_type": "code",
   "execution_count": 49,
   "metadata": {},
   "outputs": [
    {
     "name": "stdout",
     "output_type": "stream",
     "text": [
      "              precision    recall  f1-score   support\n",
      "\n",
      "         0.0       1.00      1.00      1.00       216\n",
      "         1.0       1.00      1.00      1.00       216\n",
      "\n",
      "    accuracy                           1.00       432\n",
      "   macro avg       1.00      1.00      1.00       432\n",
      "weighted avg       1.00      1.00      1.00       432\n",
      "\n"
     ]
    }
   ],
   "source": [
    "from optiml.opti.constrained.bcqp import ProjectedGradient\n",
    "\n",
    "X, y = fetch_openml('monks-problems-1', return_X_y=True)\n",
    "y = y.astype(np.float32)\n",
    "\n",
    "X_train = OneHotEncoder(sparse=False).fit_transform(X[:124,:])\n",
    "X_test = OneHotEncoder(sparse=False).fit_transform(X[124:,:])\n",
    "y_train, y_test = y[:124], y[124:]\n",
    "    \n",
    "svc = DualSVC(kernel=PolyKernel(degree=3, gamma='scale'), \n",
    "              optimizer=ProjectedGradient, verbose=False)\n",
    "svc.fit(X_train, y_train)\n",
    "print(classification_report(y_test, svc.predict(X_test)))"
   ]
  },
  {
   "cell_type": "markdown",
   "metadata": {},
   "source": [
    "##### Monk #2"
   ]
  },
  {
   "cell_type": "code",
   "execution_count": 50,
   "metadata": {},
   "outputs": [
    {
     "name": "stdout",
     "output_type": "stream",
     "text": [
      "              precision    recall  f1-score   support\n",
      "\n",
      "         0.0       1.00      1.00      1.00       290\n",
      "         1.0       1.00      1.00      1.00       142\n",
      "\n",
      "    accuracy                           1.00       432\n",
      "   macro avg       1.00      1.00      1.00       432\n",
      "weighted avg       1.00      1.00      1.00       432\n",
      "\n"
     ]
    }
   ],
   "source": [
    "from optiml.opti.constrained.bcqp import InteriorPoint\n",
    "\n",
    "X, y = fetch_openml('monks-problems-2', return_X_y=True)\n",
    "y = y.astype(np.float32)\n",
    "\n",
    "X_train = OneHotEncoder(sparse=False).fit_transform(X[:169,:])\n",
    "X_test = OneHotEncoder(sparse=False).fit_transform(X[169:,:])\n",
    "y_train, y_test = y[:169], y[169:]\n",
    "\n",
    "svc = DualSVC(kernel=PolyKernel(degree=2, gamma='scale'), C=1000, \n",
    "              optimizer=InteriorPoint, verbose=False)\n",
    "svc.fit(X_train, y_train)\n",
    "print(classification_report(y_test, svc.predict(X_test)))"
   ]
  },
  {
   "cell_type": "markdown",
   "metadata": {},
   "source": [
    "##### Monk #3"
   ]
  },
  {
   "cell_type": "code",
   "execution_count": 51,
   "metadata": {},
   "outputs": [
    {
     "name": "stdout",
     "output_type": "stream",
     "text": [
      "              precision    recall  f1-score   support\n",
      "\n",
      "         0.0       0.95      1.00      0.97       204\n",
      "         1.0       1.00      0.95      0.97       228\n",
      "\n",
      "    accuracy                           0.97       432\n",
      "   macro avg       0.97      0.97      0.97       432\n",
      "weighted avg       0.97      0.97      0.97       432\n",
      "\n"
     ]
    }
   ],
   "source": [
    "from optiml.opti.constrained.bcqp import ActiveSet\n",
    "\n",
    "X, y = fetch_openml('monks-problems-3', return_X_y=True)\n",
    "y = y.astype(np.float32)\n",
    "\n",
    "X_train = OneHotEncoder(sparse=False).fit_transform(X[:122,:])\n",
    "X_test = OneHotEncoder(sparse=False).fit_transform(X[122:,:])\n",
    "y_train, y_test = y[:122], y[122:]\n",
    "\n",
    "svc = DualSVC(kernel=PolyKernel(degree=4, gamma='auto'), C=100, \n",
    "              optimizer=ActiveSet, verbose=False)\n",
    "svc.fit(X_train, y_train)\n",
    "print(classification_report(y_test, svc.predict(X_test)))"
   ]
  },
  {
   "cell_type": "markdown",
   "metadata": {},
   "source": [
    "#### Neural Network Classifier"
   ]
  },
  {
   "cell_type": "markdown",
   "metadata": {},
   "source": [
    "In case of *Neural Network Classifier* we are going to use different optimizers, both *stochastic* and *line search* methods, with different loss functions."
   ]
  },
  {
   "cell_type": "code",
   "execution_count": 52,
   "metadata": {},
   "outputs": [],
   "source": [
    "import numpy as np\n",
    "\n",
    "from optiml.ml.neural_network import NeuralNetworkClassifier\n",
    "from optiml.ml.neural_network.layers import FullyConnected\n",
    "\n",
    "from sklearn.datasets import fetch_openml\n",
    "from sklearn.preprocessing import OneHotEncoder\n",
    "from sklearn.metrics import classification_report"
   ]
  },
  {
   "cell_type": "markdown",
   "metadata": {},
   "source": [
    "##### Monk #1"
   ]
  },
  {
   "cell_type": "code",
   "execution_count": 55,
   "metadata": {},
   "outputs": [
    {
     "data": {
      "image/png": "[encoded data removed]",
      "text/plain": [
       "<Figure size 432x288 with 1 Axes>"
      ]
     },
     "metadata": {},
     "output_type": "display_data"
    },
    {
     "data": {
      "image/png": "[encoded data removed]",
      "text/plain": [
       "<Figure size 432x288 with 1 Axes>"
      ]
     },
     "metadata": {},
     "output_type": "display_data"
    },
    {
     "name": "stdout",
     "output_type": "stream",
     "text": [
      "              precision    recall  f1-score   support\n",
      "\n",
      "         0.0       1.00      1.00      1.00       216\n",
      "         1.0       1.00      1.00      1.00       216\n",
      "\n",
      "    accuracy                           1.00       432\n",
      "   macro avg       1.00      1.00      1.00       432\n",
      "weighted avg       1.00      1.00      1.00       432\n",
      "\n"
     ]
    }
   ],
   "source": [
    "from optiml.ml.neural_network.activations import sigmoid\n",
    "from optiml.ml.neural_network.losses import mean_squared_error\n",
    "from optiml.ml.utils import plot_model_loss, plot_model_accuracy\n",
    "from optiml.opti.unconstrained.stochastic import Adam\n",
    "\n",
    "X, y = fetch_openml('monks-problems-1', return_X_y=True)\n",
    "y = y.astype(np.float32)\n",
    "\n",
    "X_train = OneHotEncoder(sparse=False).fit_transform(X[:124,:])\n",
    "X_test = OneHotEncoder(sparse=False).fit_transform(X[124:,:])\n",
    "y_train, y_test = y[:124], y[124:]\n",
    "\n",
    "net = NeuralNetworkClassifier((FullyConnected(17, 5, sigmoid),\n",
    "                               FullyConnected(5, 1, sigmoid)),\n",
    "                              loss=mean_squared_error, optimizer=Adam, \n",
    "                              learning_rate_init=0.01, early_stopping=False, \n",
    "                              validation_split=0.2, max_iter=1000, verbose=False)\n",
    "net.fit(X_train, y_train)\n",
    "plot_model_loss(net.train_loss_history, net.val_loss_history)\n",
    "plot_model_accuracy(net.train_score_history, net.val_score_history)\n",
    "print(classification_report(y_test, net.predict(X_test)))"
   ]
  },
  {
   "cell_type": "markdown",
   "metadata": {},
   "source": [
    "##### Monk #2"
   ]
  },
  {
   "cell_type": "code",
   "execution_count": 56,
   "metadata": {},
   "outputs": [
    {
     "data": {
      "image/png": "[encoded data removed]",
      "text/plain": [
       "<Figure size 432x288 with 1 Axes>"
      ]
     },
     "metadata": {},
     "output_type": "display_data"
    },
    {
     "data": {
      "image/png": "[encoded data removed]",
      "text/plain": [
       "<Figure size 432x288 with 1 Axes>"
      ]
     },
     "metadata": {},
     "output_type": "display_data"
    },
    {
     "name": "stdout",
     "output_type": "stream",
     "text": [
      "              precision    recall  f1-score   support\n",
      "\n",
      "         0.0       1.00      1.00      1.00       290\n",
      "         1.0       1.00      1.00      1.00       142\n",
      "\n",
      "    accuracy                           1.00       432\n",
      "   macro avg       1.00      1.00      1.00       432\n",
      "weighted avg       1.00      1.00      1.00       432\n",
      "\n"
     ]
    }
   ],
   "source": [
    "from optiml.ml.neural_network.activations import sigmoid, softmax\n",
    "from optiml.ml.neural_network.losses import sparse_categorical_cross_entropy\n",
    "\n",
    "from optiml.opti.unconstrained.stochastic import StochasticGradientDescent\n",
    "\n",
    "X, y = fetch_openml('monks-problems-2', return_X_y=True)\n",
    "y = y.astype(np.float32)\n",
    "\n",
    "X_train = OneHotEncoder(sparse=False).fit_transform(X[:169,:])\n",
    "X_test = OneHotEncoder(sparse=False).fit_transform(X[169:,:])\n",
    "y_train, y_test = y[:169], y[169:]\n",
    "\n",
    "net = NeuralNetworkClassifier((FullyConnected(17, 5, sigmoid),\n",
    "                               FullyConnected(5, 2, softmax)),\n",
    "                              loss=sparse_categorical_cross_entropy, \n",
    "                              optimizer=StochasticGradientDescent, \n",
    "                              learning_rate_init=0.1, early_stopping=False, \n",
    "                              momentum_type='nesterov', momentum=0.9, \n",
    "                              validation_split=0.2,max_iter=1000, verbose=False)\n",
    "net.fit(X_train, y_train)\n",
    "plot_model_loss(net.train_loss_history, net.val_loss_history)\n",
    "plot_model_accuracy(net.train_score_history, net.val_score_history)\n",
    "print(classification_report(y_test, net.predict(X_test)))"
   ]
  },
  {
   "cell_type": "markdown",
   "metadata": {},
   "source": [
    "##### Monk #3"
   ]
  },
  {
   "cell_type": "code",
   "execution_count": 57,
   "metadata": {},
   "outputs": [
    {
     "name": "stdout",
     "output_type": "stream",
     "text": [
      "              precision    recall  f1-score   support\n",
      "\n",
      "         0.0       0.94      1.00      0.97       204\n",
      "         1.0       1.00      0.95      0.97       228\n",
      "\n",
      "    accuracy                           0.97       432\n",
      "   macro avg       0.97      0.97      0.97       432\n",
      "weighted avg       0.97      0.97      0.97       432\n",
      "\n"
     ]
    }
   ],
   "source": [
    "from optiml.ml.neural_network.activations import sigmoid, softmax\n",
    "from optiml.ml.neural_network.losses import mean_squared_error\n",
    "from optiml.ml.neural_network.regularizers import L2\n",
    "\n",
    "from optiml.opti.unconstrained.line_search import BFGS\n",
    "\n",
    "from optiml.opti.unconstrained.stochastic import Adam\n",
    "\n",
    "X, y = fetch_openml('monks-problems-3', return_X_y=True)\n",
    "y = y.astype(np.float32)\n",
    "\n",
    "X_train = OneHotEncoder(sparse=False).fit_transform(X[:122,:])\n",
    "X_test = OneHotEncoder(sparse=False).fit_transform(X[122:,:])\n",
    "y_train, y_test = y[:122], y[122:]\n",
    "\n",
    "net = NeuralNetworkClassifier((FullyConnected(17, 10, sigmoid, coef_reg=L2(0.1), inter_reg=L2(0.1)),\n",
    "                               FullyConnected(10, 1, sigmoid, coef_reg=L2(0.1), inter_reg=L2(0.1))),\n",
    "                              loss=mean_squared_error, optimizer=BFGS, \n",
    "                              max_iter=500, verbose=False)\n",
    "net.fit(X_train, y_train)\n",
    "print(classification_report(y_test, net.predict(X_test)))"
   ]
  },
  {
   "cell_type": "markdown",
   "metadata": {},
   "source": [
    "### ML-CUP19"
   ]
  },
  {
   "cell_type": "markdown",
   "metadata": {},
   "source": [
    "In this second section of the report we are going to show how to perform the grid search over ML-CUP19 to find the hyperparameters which best generalize the model on the unseen data."
   ]
  },
  {
   "cell_type": "code",
   "execution_count": 149,
   "metadata": {},
   "outputs": [],
   "source": [
    "import numpy as np\n",
    "\n",
    "def load_ml_cup():\n",
    "    ml_cup = np.delete(np.genfromtxt(module_path + '/optiml/ml/data/ML-CUP19/ML-CUP19-TR.csv', \n",
    "                                     delimiter=','), obj=0, axis=1)\n",
    "    return ml_cup[:, :-2], ml_cup[:, -2:]\n",
    "\n",
    "def load_ml_cup_blind():\n",
    "    return np.delete(np.genfromtxt(module_path + '/optiml/ml/data/ML-CUP19/ML-CUP19-TS.csv',\n",
    "                                   delimiter=','), obj=0, axis=1)"
   ]
  },
  {
   "cell_type": "code",
   "execution_count": 150,
   "metadata": {},
   "outputs": [],
   "source": [
    "def mean_euclidean_error(y_true, y_pred):\n",
    "    assert y_true.shape == y_pred.shape\n",
    "    return np.mean(np.linalg.norm(y_pred - y_true, axis=1))"
   ]
  },
  {
   "cell_type": "markdown",
   "metadata": {},
   "source": [
    "The hyperparameters which needs to be tuned are the kernel, the $\\epsilon$-insensitive value, the regularization term $C$ and $\\gamma$ which define how far the influence of a single training example reaches.\n",
    "\n",
    "Defining the range of values that are typically chosen to perform an exhaustive grid-search:"
   ]
  },
  {
   "cell_type": "code",
   "execution_count": 151,
   "metadata": {},
   "outputs": [],
   "source": [
    "epsilon_range = [0.001, 0.01, 0.1, 0.2, 0.3, 0.4, 0.5]\n",
    "gamma_range = [0.0001, 0.001, 0.01, 0.1, 1, 'auto', 'scale']\n",
    "C_range = [0.1, 1, 10, 100, 1000]"
   ]
  },
  {
   "cell_type": "markdown",
   "metadata": {},
   "source": [
    "The dataset is divided into *development set* and *evaluation set* which corresponds to the 80% and 20% respectively.\n",
    "\n",
    "Then, I performed a 5 fold cross validation which further divides the development set into *training* and *validation* set."
   ]
  },
  {
   "cell_type": "code",
   "execution_count": 152,
   "metadata": {},
   "outputs": [
    {
     "name": "stdout",
     "output_type": "stream",
     "text": [
      "Fitting 5 folds for each of 280 candidates, totalling 1400 fits\n"
     ]
    },
    {
     "name": "stderr",
     "output_type": "stream",
     "text": [
      "[Parallel(n_jobs=-1)]: Using backend LokyBackend with 8 concurrent workers.\n",
      "[Parallel(n_jobs=-1)]: Done  34 tasks      | elapsed:    3.8s\n",
      "[Parallel(n_jobs=-1)]: Done 184 tasks      | elapsed:   12.3s\n",
      "[Parallel(n_jobs=-1)]: Done 434 tasks      | elapsed:   27.4s\n",
      "[Parallel(n_jobs=-1)]: Done 784 tasks      | elapsed:   58.5s\n",
      "[Parallel(n_jobs=-1)]: Done 1234 tasks      | elapsed:  5.9min\n",
      "[Parallel(n_jobs=-1)]: Done 1400 out of 1400 | elapsed:  6.2min finished\n"
     ]
    }
   ],
   "source": [
    "from optiml.ml.svm import DualSVR\n",
    "from optiml.ml.svm.kernels import gaussian, laplacian\n",
    "\n",
    "from sklearn.metrics import make_scorer\n",
    "from sklearn.model_selection import train_test_split, GridSearchCV\n",
    "from sklearn.multioutput import MultiOutputRegressor\n",
    "\n",
    "X, y = load_ml_cup()\n",
    "\n",
    "X_train, X_test, y_train, y_test = train_test_split(X, y, test_size=0.2)\n",
    "\n",
    "tuned_parameters = [{'estimator__kernel': [gaussian],\n",
    "                     'estimator__epsilon': epsilon_range,\n",
    "                     'estimator__kernel_gamma': gamma_range,\n",
    "                     'estimator__C': C_range},\n",
    "                    {'estimator__kernel': [laplacian],\n",
    "                     'estimator__epsilon': epsilon_range,\n",
    "                     'estimator__kernel_gamma': ['auto'],\n",
    "                     'estimator__C': C_range}]\n",
    "\n",
    "neg_mean_euclidean_error = make_scorer(mean_euclidean_error, greater_is_better=False)\n",
    "\n",
    "grid = GridSearchCV(MultiOutputRegressor(DualSVR()),\n",
    "                    param_grid=tuned_parameters,\n",
    "                    scoring=neg_mean_euclidean_error,\n",
    "                    cv=5,  # 5 fold cross validation\n",
    "                    n_jobs=-1,  # use all processors\n",
    "                    refit=True,  # refit the best model on the full dataset\n",
    "                    return_train_score=True,\n",
    "                    verbose=True).fit(X_train, y_train)"
   ]
  },
  {
   "cell_type": "markdown",
   "metadata": {},
   "source": [
    "The best parameters set found on development set with train and validation scores are:"
   ]
  },
  {
   "cell_type": "code",
   "execution_count": 154,
   "metadata": {},
   "outputs": [
    {
     "data": {
      "text/html": [
       "<style  type=\"text/css\" >\n",
       "    #T_93786c26_ad18_11ea_9647_95ebb8726e2frow0_col0 {\n",
       "            background-color:  lightyellow;\n",
       "        }    #T_93786c26_ad18_11ea_9647_95ebb8726e2frow0_col1 {\n",
       "            background-color:  lightyellow;\n",
       "        }    #T_93786c26_ad18_11ea_9647_95ebb8726e2frow0_col2 {\n",
       "            background-color:  lightyellow;\n",
       "        }    #T_93786c26_ad18_11ea_9647_95ebb8726e2frow0_col3 {\n",
       "            background-color:  lightyellow;\n",
       "        }    #T_93786c26_ad18_11ea_9647_95ebb8726e2frow0_col4 {\n",
       "            background-color:  lightyellow;\n",
       "        }    #T_93786c26_ad18_11ea_9647_95ebb8726e2frow0_col5 {\n",
       "            background-color:  lightyellow;\n",
       "        }    #T_93786c26_ad18_11ea_9647_95ebb8726e2frow0_col6 {\n",
       "            background-color:  lightyellow;\n",
       "        }    #T_93786c26_ad18_11ea_9647_95ebb8726e2frow0_col7 {\n",
       "            background-color:  lightyellow;\n",
       "        }    #T_93786c26_ad18_11ea_9647_95ebb8726e2frow0_col8 {\n",
       "            background-color:  lightyellow;\n",
       "        }</style><table id=\"T_93786c26_ad18_11ea_9647_95ebb8726e2f\" ><thead>    <tr>        <th class=\"col_heading level0 col0\" >kernel</th>        <th class=\"col_heading level0 col1\" >epsilon</th>        <th class=\"col_heading level0 col2\" >C</th>        <th class=\"col_heading level0 col3\" >gamma</th>        <th class=\"col_heading level0 col4\" >mean_train_score</th>        <th class=\"col_heading level0 col5\" >std_train_score</th>        <th class=\"col_heading level0 col6\" >mean_val_score</th>        <th class=\"col_heading level0 col7\" >std_val_score</th>        <th class=\"col_heading level0 col8\" >rank_val_score</th>    </tr></thead><tbody>\n",
       "                <tr>\n",
       "                                <td id=\"T_93786c26_ad18_11ea_9647_95ebb8726e2frow0_col0\" class=\"data row0 col0\" >laplacian</td>\n",
       "                        <td id=\"T_93786c26_ad18_11ea_9647_95ebb8726e2frow0_col1\" class=\"data row0 col1\" >0.001000</td>\n",
       "                        <td id=\"T_93786c26_ad18_11ea_9647_95ebb8726e2frow0_col2\" class=\"data row0 col2\" >100</td>\n",
       "                        <td id=\"T_93786c26_ad18_11ea_9647_95ebb8726e2frow0_col3\" class=\"data row0 col3\" >auto</td>\n",
       "                        <td id=\"T_93786c26_ad18_11ea_9647_95ebb8726e2frow0_col4\" class=\"data row0 col4\" >0.007813</td>\n",
       "                        <td id=\"T_93786c26_ad18_11ea_9647_95ebb8726e2frow0_col5\" class=\"data row0 col5\" >0.001315</td>\n",
       "                        <td id=\"T_93786c26_ad18_11ea_9647_95ebb8726e2frow0_col6\" class=\"data row0 col6\" >0.819928</td>\n",
       "                        <td id=\"T_93786c26_ad18_11ea_9647_95ebb8726e2frow0_col7\" class=\"data row0 col7\" >0.034161</td>\n",
       "                        <td id=\"T_93786c26_ad18_11ea_9647_95ebb8726e2frow0_col8\" class=\"data row0 col8\" >1</td>\n",
       "            </tr>\n",
       "            <tr>\n",
       "                                <td id=\"T_93786c26_ad18_11ea_9647_95ebb8726e2frow1_col0\" class=\"data row1 col0\" >laplacian</td>\n",
       "                        <td id=\"T_93786c26_ad18_11ea_9647_95ebb8726e2frow1_col1\" class=\"data row1 col1\" >0.010000</td>\n",
       "                        <td id=\"T_93786c26_ad18_11ea_9647_95ebb8726e2frow1_col2\" class=\"data row1 col2\" >100</td>\n",
       "                        <td id=\"T_93786c26_ad18_11ea_9647_95ebb8726e2frow1_col3\" class=\"data row1 col3\" >auto</td>\n",
       "                        <td id=\"T_93786c26_ad18_11ea_9647_95ebb8726e2frow1_col4\" class=\"data row1 col4\" >0.018100</td>\n",
       "                        <td id=\"T_93786c26_ad18_11ea_9647_95ebb8726e2frow1_col5\" class=\"data row1 col5\" >0.001270</td>\n",
       "                        <td id=\"T_93786c26_ad18_11ea_9647_95ebb8726e2frow1_col6\" class=\"data row1 col6\" >0.820098</td>\n",
       "                        <td id=\"T_93786c26_ad18_11ea_9647_95ebb8726e2frow1_col7\" class=\"data row1 col7\" >0.034293</td>\n",
       "                        <td id=\"T_93786c26_ad18_11ea_9647_95ebb8726e2frow1_col8\" class=\"data row1 col8\" >2</td>\n",
       "            </tr>\n",
       "            <tr>\n",
       "                                <td id=\"T_93786c26_ad18_11ea_9647_95ebb8726e2frow2_col0\" class=\"data row2 col0\" >laplacian</td>\n",
       "                        <td id=\"T_93786c26_ad18_11ea_9647_95ebb8726e2frow2_col1\" class=\"data row2 col1\" >0.001000</td>\n",
       "                        <td id=\"T_93786c26_ad18_11ea_9647_95ebb8726e2frow2_col2\" class=\"data row2 col2\" >1000</td>\n",
       "                        <td id=\"T_93786c26_ad18_11ea_9647_95ebb8726e2frow2_col3\" class=\"data row2 col3\" >auto</td>\n",
       "                        <td id=\"T_93786c26_ad18_11ea_9647_95ebb8726e2frow2_col4\" class=\"data row2 col4\" >0.004371</td>\n",
       "                        <td id=\"T_93786c26_ad18_11ea_9647_95ebb8726e2frow2_col5\" class=\"data row2 col5\" >0.000521</td>\n",
       "                        <td id=\"T_93786c26_ad18_11ea_9647_95ebb8726e2frow2_col6\" class=\"data row2 col6\" >0.822575</td>\n",
       "                        <td id=\"T_93786c26_ad18_11ea_9647_95ebb8726e2frow2_col7\" class=\"data row2 col7\" >0.035107</td>\n",
       "                        <td id=\"T_93786c26_ad18_11ea_9647_95ebb8726e2frow2_col8\" class=\"data row2 col8\" >3</td>\n",
       "            </tr>\n",
       "            <tr>\n",
       "                                <td id=\"T_93786c26_ad18_11ea_9647_95ebb8726e2frow3_col0\" class=\"data row3 col0\" >laplacian</td>\n",
       "                        <td id=\"T_93786c26_ad18_11ea_9647_95ebb8726e2frow3_col1\" class=\"data row3 col1\" >0.010000</td>\n",
       "                        <td id=\"T_93786c26_ad18_11ea_9647_95ebb8726e2frow3_col2\" class=\"data row3 col2\" >1000</td>\n",
       "                        <td id=\"T_93786c26_ad18_11ea_9647_95ebb8726e2frow3_col3\" class=\"data row3 col3\" >auto</td>\n",
       "                        <td id=\"T_93786c26_ad18_11ea_9647_95ebb8726e2frow3_col4\" class=\"data row3 col4\" >0.015958</td>\n",
       "                        <td id=\"T_93786c26_ad18_11ea_9647_95ebb8726e2frow3_col5\" class=\"data row3 col5\" >0.000449</td>\n",
       "                        <td id=\"T_93786c26_ad18_11ea_9647_95ebb8726e2frow3_col6\" class=\"data row3 col6\" >0.822720</td>\n",
       "                        <td id=\"T_93786c26_ad18_11ea_9647_95ebb8726e2frow3_col7\" class=\"data row3 col7\" >0.035285</td>\n",
       "                        <td id=\"T_93786c26_ad18_11ea_9647_95ebb8726e2frow3_col8\" class=\"data row3 col8\" >4</td>\n",
       "            </tr>\n",
       "            <tr>\n",
       "                                <td id=\"T_93786c26_ad18_11ea_9647_95ebb8726e2frow4_col0\" class=\"data row4 col0\" >laplacian</td>\n",
       "                        <td id=\"T_93786c26_ad18_11ea_9647_95ebb8726e2frow4_col1\" class=\"data row4 col1\" >0.100000</td>\n",
       "                        <td id=\"T_93786c26_ad18_11ea_9647_95ebb8726e2frow4_col2\" class=\"data row4 col2\" >100</td>\n",
       "                        <td id=\"T_93786c26_ad18_11ea_9647_95ebb8726e2frow4_col3\" class=\"data row4 col3\" >auto</td>\n",
       "                        <td id=\"T_93786c26_ad18_11ea_9647_95ebb8726e2frow4_col4\" class=\"data row4 col4\" >0.135093</td>\n",
       "                        <td id=\"T_93786c26_ad18_11ea_9647_95ebb8726e2frow4_col5\" class=\"data row4 col5\" >0.000804</td>\n",
       "                        <td id=\"T_93786c26_ad18_11ea_9647_95ebb8726e2frow4_col6\" class=\"data row4 col6\" >0.838315</td>\n",
       "                        <td id=\"T_93786c26_ad18_11ea_9647_95ebb8726e2frow4_col7\" class=\"data row4 col7\" >0.034808</td>\n",
       "                        <td id=\"T_93786c26_ad18_11ea_9647_95ebb8726e2frow4_col8\" class=\"data row4 col8\" >5</td>\n",
       "            </tr>\n",
       "            <tr>\n",
       "                                <td id=\"T_93786c26_ad18_11ea_9647_95ebb8726e2frow5_col0\" class=\"data row5 col0\" >laplacian</td>\n",
       "                        <td id=\"T_93786c26_ad18_11ea_9647_95ebb8726e2frow5_col1\" class=\"data row5 col1\" >0.100000</td>\n",
       "                        <td id=\"T_93786c26_ad18_11ea_9647_95ebb8726e2frow5_col2\" class=\"data row5 col2\" >1000</td>\n",
       "                        <td id=\"T_93786c26_ad18_11ea_9647_95ebb8726e2frow5_col3\" class=\"data row5 col3\" >auto</td>\n",
       "                        <td id=\"T_93786c26_ad18_11ea_9647_95ebb8726e2frow5_col4\" class=\"data row5 col4\" >0.133685</td>\n",
       "                        <td id=\"T_93786c26_ad18_11ea_9647_95ebb8726e2frow5_col5\" class=\"data row5 col5\" >0.000370</td>\n",
       "                        <td id=\"T_93786c26_ad18_11ea_9647_95ebb8726e2frow5_col6\" class=\"data row5 col6\" >0.840892</td>\n",
       "                        <td id=\"T_93786c26_ad18_11ea_9647_95ebb8726e2frow5_col7\" class=\"data row5 col7\" >0.036179</td>\n",
       "                        <td id=\"T_93786c26_ad18_11ea_9647_95ebb8726e2frow5_col8\" class=\"data row5 col8\" >6</td>\n",
       "            </tr>\n",
       "            <tr>\n",
       "                                <td id=\"T_93786c26_ad18_11ea_9647_95ebb8726e2frow6_col0\" class=\"data row6 col0\" >laplacian</td>\n",
       "                        <td id=\"T_93786c26_ad18_11ea_9647_95ebb8726e2frow6_col1\" class=\"data row6 col1\" >0.200000</td>\n",
       "                        <td id=\"T_93786c26_ad18_11ea_9647_95ebb8726e2frow6_col2\" class=\"data row6 col2\" >100</td>\n",
       "                        <td id=\"T_93786c26_ad18_11ea_9647_95ebb8726e2frow6_col3\" class=\"data row6 col3\" >auto</td>\n",
       "                        <td id=\"T_93786c26_ad18_11ea_9647_95ebb8726e2frow6_col4\" class=\"data row6 col4\" >0.257818</td>\n",
       "                        <td id=\"T_93786c26_ad18_11ea_9647_95ebb8726e2frow6_col5\" class=\"data row6 col5\" >0.001989</td>\n",
       "                        <td id=\"T_93786c26_ad18_11ea_9647_95ebb8726e2frow6_col6\" class=\"data row6 col6\" >0.865717</td>\n",
       "                        <td id=\"T_93786c26_ad18_11ea_9647_95ebb8726e2frow6_col7\" class=\"data row6 col7\" >0.035421</td>\n",
       "                        <td id=\"T_93786c26_ad18_11ea_9647_95ebb8726e2frow6_col8\" class=\"data row6 col8\" >7</td>\n",
       "            </tr>\n",
       "            <tr>\n",
       "                                <td id=\"T_93786c26_ad18_11ea_9647_95ebb8726e2frow7_col0\" class=\"data row7 col0\" >laplacian</td>\n",
       "                        <td id=\"T_93786c26_ad18_11ea_9647_95ebb8726e2frow7_col1\" class=\"data row7 col1\" >0.200000</td>\n",
       "                        <td id=\"T_93786c26_ad18_11ea_9647_95ebb8726e2frow7_col2\" class=\"data row7 col2\" >1000</td>\n",
       "                        <td id=\"T_93786c26_ad18_11ea_9647_95ebb8726e2frow7_col3\" class=\"data row7 col3\" >auto</td>\n",
       "                        <td id=\"T_93786c26_ad18_11ea_9647_95ebb8726e2frow7_col4\" class=\"data row7 col4\" >0.256723</td>\n",
       "                        <td id=\"T_93786c26_ad18_11ea_9647_95ebb8726e2frow7_col5\" class=\"data row7 col5\" >0.001864</td>\n",
       "                        <td id=\"T_93786c26_ad18_11ea_9647_95ebb8726e2frow7_col6\" class=\"data row7 col6\" >0.867975</td>\n",
       "                        <td id=\"T_93786c26_ad18_11ea_9647_95ebb8726e2frow7_col7\" class=\"data row7 col7\" >0.036715</td>\n",
       "                        <td id=\"T_93786c26_ad18_11ea_9647_95ebb8726e2frow7_col8\" class=\"data row7 col8\" >8</td>\n",
       "            </tr>\n",
       "            <tr>\n",
       "                                <td id=\"T_93786c26_ad18_11ea_9647_95ebb8726e2frow8_col0\" class=\"data row8 col0\" >laplacian</td>\n",
       "                        <td id=\"T_93786c26_ad18_11ea_9647_95ebb8726e2frow8_col1\" class=\"data row8 col1\" >0.001000</td>\n",
       "                        <td id=\"T_93786c26_ad18_11ea_9647_95ebb8726e2frow8_col2\" class=\"data row8 col2\" >10</td>\n",
       "                        <td id=\"T_93786c26_ad18_11ea_9647_95ebb8726e2frow8_col3\" class=\"data row8 col3\" >auto</td>\n",
       "                        <td id=\"T_93786c26_ad18_11ea_9647_95ebb8726e2frow8_col4\" class=\"data row8 col4\" >0.264456</td>\n",
       "                        <td id=\"T_93786c26_ad18_11ea_9647_95ebb8726e2frow8_col5\" class=\"data row8 col5\" >0.007097</td>\n",
       "                        <td id=\"T_93786c26_ad18_11ea_9647_95ebb8726e2frow8_col6\" class=\"data row8 col6\" >0.876704</td>\n",
       "                        <td id=\"T_93786c26_ad18_11ea_9647_95ebb8726e2frow8_col7\" class=\"data row8 col7\" >0.032269</td>\n",
       "                        <td id=\"T_93786c26_ad18_11ea_9647_95ebb8726e2frow8_col8\" class=\"data row8 col8\" >9</td>\n",
       "            </tr>\n",
       "            <tr>\n",
       "                                <td id=\"T_93786c26_ad18_11ea_9647_95ebb8726e2frow9_col0\" class=\"data row9 col0\" >laplacian</td>\n",
       "                        <td id=\"T_93786c26_ad18_11ea_9647_95ebb8726e2frow9_col1\" class=\"data row9 col1\" >0.010000</td>\n",
       "                        <td id=\"T_93786c26_ad18_11ea_9647_95ebb8726e2frow9_col2\" class=\"data row9 col2\" >10</td>\n",
       "                        <td id=\"T_93786c26_ad18_11ea_9647_95ebb8726e2frow9_col3\" class=\"data row9 col3\" >auto</td>\n",
       "                        <td id=\"T_93786c26_ad18_11ea_9647_95ebb8726e2frow9_col4\" class=\"data row9 col4\" >0.270488</td>\n",
       "                        <td id=\"T_93786c26_ad18_11ea_9647_95ebb8726e2frow9_col5\" class=\"data row9 col5\" >0.006917</td>\n",
       "                        <td id=\"T_93786c26_ad18_11ea_9647_95ebb8726e2frow9_col6\" class=\"data row9 col6\" >0.876959</td>\n",
       "                        <td id=\"T_93786c26_ad18_11ea_9647_95ebb8726e2frow9_col7\" class=\"data row9 col7\" >0.032345</td>\n",
       "                        <td id=\"T_93786c26_ad18_11ea_9647_95ebb8726e2frow9_col8\" class=\"data row9 col8\" >10</td>\n",
       "            </tr>\n",
       "            <tr>\n",
       "                                <td id=\"T_93786c26_ad18_11ea_9647_95ebb8726e2frow10_col0\" class=\"data row10 col0\" >laplacian</td>\n",
       "                        <td id=\"T_93786c26_ad18_11ea_9647_95ebb8726e2frow10_col1\" class=\"data row10 col1\" >0.100000</td>\n",
       "                        <td id=\"T_93786c26_ad18_11ea_9647_95ebb8726e2frow10_col2\" class=\"data row10 col2\" >10</td>\n",
       "                        <td id=\"T_93786c26_ad18_11ea_9647_95ebb8726e2frow10_col3\" class=\"data row10 col3\" >auto</td>\n",
       "                        <td id=\"T_93786c26_ad18_11ea_9647_95ebb8726e2frow10_col4\" class=\"data row10 col4\" >0.344796</td>\n",
       "                        <td id=\"T_93786c26_ad18_11ea_9647_95ebb8726e2frow10_col5\" class=\"data row10 col5\" >0.004937</td>\n",
       "                        <td id=\"T_93786c26_ad18_11ea_9647_95ebb8726e2frow10_col6\" class=\"data row10 col6\" >0.891859</td>\n",
       "                        <td id=\"T_93786c26_ad18_11ea_9647_95ebb8726e2frow10_col7\" class=\"data row10 col7\" >0.033082</td>\n",
       "                        <td id=\"T_93786c26_ad18_11ea_9647_95ebb8726e2frow10_col8\" class=\"data row10 col8\" >11</td>\n",
       "            </tr>\n",
       "            <tr>\n",
       "                                <td id=\"T_93786c26_ad18_11ea_9647_95ebb8726e2frow11_col0\" class=\"data row11 col0\" >laplacian</td>\n",
       "                        <td id=\"T_93786c26_ad18_11ea_9647_95ebb8726e2frow11_col1\" class=\"data row11 col1\" >0.300000</td>\n",
       "                        <td id=\"T_93786c26_ad18_11ea_9647_95ebb8726e2frow11_col2\" class=\"data row11 col2\" >100</td>\n",
       "                        <td id=\"T_93786c26_ad18_11ea_9647_95ebb8726e2frow11_col3\" class=\"data row11 col3\" >auto</td>\n",
       "                        <td id=\"T_93786c26_ad18_11ea_9647_95ebb8726e2frow11_col4\" class=\"data row11 col4\" >0.369501</td>\n",
       "                        <td id=\"T_93786c26_ad18_11ea_9647_95ebb8726e2frow11_col5\" class=\"data row11 col5\" >0.002156</td>\n",
       "                        <td id=\"T_93786c26_ad18_11ea_9647_95ebb8726e2frow11_col6\" class=\"data row11 col6\" >0.898255</td>\n",
       "                        <td id=\"T_93786c26_ad18_11ea_9647_95ebb8726e2frow11_col7\" class=\"data row11 col7\" >0.034888</td>\n",
       "                        <td id=\"T_93786c26_ad18_11ea_9647_95ebb8726e2frow11_col8\" class=\"data row11 col8\" >12</td>\n",
       "            </tr>\n",
       "            <tr>\n",
       "                                <td id=\"T_93786c26_ad18_11ea_9647_95ebb8726e2frow12_col0\" class=\"data row12 col0\" >laplacian</td>\n",
       "                        <td id=\"T_93786c26_ad18_11ea_9647_95ebb8726e2frow12_col1\" class=\"data row12 col1\" >0.300000</td>\n",
       "                        <td id=\"T_93786c26_ad18_11ea_9647_95ebb8726e2frow12_col2\" class=\"data row12 col2\" >1000</td>\n",
       "                        <td id=\"T_93786c26_ad18_11ea_9647_95ebb8726e2frow12_col3\" class=\"data row12 col3\" >auto</td>\n",
       "                        <td id=\"T_93786c26_ad18_11ea_9647_95ebb8726e2frow12_col4\" class=\"data row12 col4\" >0.368767</td>\n",
       "                        <td id=\"T_93786c26_ad18_11ea_9647_95ebb8726e2frow12_col5\" class=\"data row12 col5\" >0.001862</td>\n",
       "                        <td id=\"T_93786c26_ad18_11ea_9647_95ebb8726e2frow12_col6\" class=\"data row12 col6\" >0.899516</td>\n",
       "                        <td id=\"T_93786c26_ad18_11ea_9647_95ebb8726e2frow12_col7\" class=\"data row12 col7\" >0.035528</td>\n",
       "                        <td id=\"T_93786c26_ad18_11ea_9647_95ebb8726e2frow12_col8\" class=\"data row12 col8\" >13</td>\n",
       "            </tr>\n",
       "            <tr>\n",
       "                                <td id=\"T_93786c26_ad18_11ea_9647_95ebb8726e2frow13_col0\" class=\"data row13 col0\" >laplacian</td>\n",
       "                        <td id=\"T_93786c26_ad18_11ea_9647_95ebb8726e2frow13_col1\" class=\"data row13 col1\" >0.200000</td>\n",
       "                        <td id=\"T_93786c26_ad18_11ea_9647_95ebb8726e2frow13_col2\" class=\"data row13 col2\" >10</td>\n",
       "                        <td id=\"T_93786c26_ad18_11ea_9647_95ebb8726e2frow13_col3\" class=\"data row13 col3\" >auto</td>\n",
       "                        <td id=\"T_93786c26_ad18_11ea_9647_95ebb8726e2frow13_col4\" class=\"data row13 col4\" >0.427664</td>\n",
       "                        <td id=\"T_93786c26_ad18_11ea_9647_95ebb8726e2frow13_col5\" class=\"data row13 col5\" >0.004516</td>\n",
       "                        <td id=\"T_93786c26_ad18_11ea_9647_95ebb8726e2frow13_col6\" class=\"data row13 col6\" >0.915095</td>\n",
       "                        <td id=\"T_93786c26_ad18_11ea_9647_95ebb8726e2frow13_col7\" class=\"data row13 col7\" >0.034687</td>\n",
       "                        <td id=\"T_93786c26_ad18_11ea_9647_95ebb8726e2frow13_col8\" class=\"data row13 col8\" >14</td>\n",
       "            </tr>\n",
       "            <tr>\n",
       "                                <td id=\"T_93786c26_ad18_11ea_9647_95ebb8726e2frow14_col0\" class=\"data row14 col0\" >laplacian</td>\n",
       "                        <td id=\"T_93786c26_ad18_11ea_9647_95ebb8726e2frow14_col1\" class=\"data row14 col1\" >0.400000</td>\n",
       "                        <td id=\"T_93786c26_ad18_11ea_9647_95ebb8726e2frow14_col2\" class=\"data row14 col2\" >100</td>\n",
       "                        <td id=\"T_93786c26_ad18_11ea_9647_95ebb8726e2frow14_col3\" class=\"data row14 col3\" >auto</td>\n",
       "                        <td id=\"T_93786c26_ad18_11ea_9647_95ebb8726e2frow14_col4\" class=\"data row14 col4\" >0.471176</td>\n",
       "                        <td id=\"T_93786c26_ad18_11ea_9647_95ebb8726e2frow14_col5\" class=\"data row14 col5\" >0.002335</td>\n",
       "                        <td id=\"T_93786c26_ad18_11ea_9647_95ebb8726e2frow14_col6\" class=\"data row14 col6\" >0.931935</td>\n",
       "                        <td id=\"T_93786c26_ad18_11ea_9647_95ebb8726e2frow14_col7\" class=\"data row14 col7\" >0.033663</td>\n",
       "                        <td id=\"T_93786c26_ad18_11ea_9647_95ebb8726e2frow14_col8\" class=\"data row14 col8\" >15</td>\n",
       "            </tr>\n",
       "            <tr>\n",
       "                                <td id=\"T_93786c26_ad18_11ea_9647_95ebb8726e2frow15_col0\" class=\"data row15 col0\" >laplacian</td>\n",
       "                        <td id=\"T_93786c26_ad18_11ea_9647_95ebb8726e2frow15_col1\" class=\"data row15 col1\" >0.400000</td>\n",
       "                        <td id=\"T_93786c26_ad18_11ea_9647_95ebb8726e2frow15_col2\" class=\"data row15 col2\" >1000</td>\n",
       "                        <td id=\"T_93786c26_ad18_11ea_9647_95ebb8726e2frow15_col3\" class=\"data row15 col3\" >auto</td>\n",
       "                        <td id=\"T_93786c26_ad18_11ea_9647_95ebb8726e2frow15_col4\" class=\"data row15 col4\" >0.470766</td>\n",
       "                        <td id=\"T_93786c26_ad18_11ea_9647_95ebb8726e2frow15_col5\" class=\"data row15 col5\" >0.002159</td>\n",
       "                        <td id=\"T_93786c26_ad18_11ea_9647_95ebb8726e2frow15_col6\" class=\"data row15 col6\" >0.932434</td>\n",
       "                        <td id=\"T_93786c26_ad18_11ea_9647_95ebb8726e2frow15_col7\" class=\"data row15 col7\" >0.033869</td>\n",
       "                        <td id=\"T_93786c26_ad18_11ea_9647_95ebb8726e2frow15_col8\" class=\"data row15 col8\" >16</td>\n",
       "            </tr>\n",
       "            <tr>\n",
       "                                <td id=\"T_93786c26_ad18_11ea_9647_95ebb8726e2frow16_col0\" class=\"data row16 col0\" >laplacian</td>\n",
       "                        <td id=\"T_93786c26_ad18_11ea_9647_95ebb8726e2frow16_col1\" class=\"data row16 col1\" >0.300000</td>\n",
       "                        <td id=\"T_93786c26_ad18_11ea_9647_95ebb8726e2frow16_col2\" class=\"data row16 col2\" >10</td>\n",
       "                        <td id=\"T_93786c26_ad18_11ea_9647_95ebb8726e2frow16_col3\" class=\"data row16 col3\" >auto</td>\n",
       "                        <td id=\"T_93786c26_ad18_11ea_9647_95ebb8726e2frow16_col4\" class=\"data row16 col4\" >0.507263</td>\n",
       "                        <td id=\"T_93786c26_ad18_11ea_9647_95ebb8726e2frow16_col5\" class=\"data row16 col5\" >0.005207</td>\n",
       "                        <td id=\"T_93786c26_ad18_11ea_9647_95ebb8726e2frow16_col6\" class=\"data row16 col6\" >0.942678</td>\n",
       "                        <td id=\"T_93786c26_ad18_11ea_9647_95ebb8726e2frow16_col7\" class=\"data row16 col7\" >0.033793</td>\n",
       "                        <td id=\"T_93786c26_ad18_11ea_9647_95ebb8726e2frow16_col8\" class=\"data row16 col8\" >17</td>\n",
       "            </tr>\n",
       "            <tr>\n",
       "                                <td id=\"T_93786c26_ad18_11ea_9647_95ebb8726e2frow17_col0\" class=\"data row17 col0\" >laplacian</td>\n",
       "                        <td id=\"T_93786c26_ad18_11ea_9647_95ebb8726e2frow17_col1\" class=\"data row17 col1\" >0.500000</td>\n",
       "                        <td id=\"T_93786c26_ad18_11ea_9647_95ebb8726e2frow17_col2\" class=\"data row17 col2\" >100</td>\n",
       "                        <td id=\"T_93786c26_ad18_11ea_9647_95ebb8726e2frow17_col3\" class=\"data row17 col3\" >auto</td>\n",
       "                        <td id=\"T_93786c26_ad18_11ea_9647_95ebb8726e2frow17_col4\" class=\"data row17 col4\" >0.564517</td>\n",
       "                        <td id=\"T_93786c26_ad18_11ea_9647_95ebb8726e2frow17_col5\" class=\"data row17 col5\" >0.003095</td>\n",
       "                        <td id=\"T_93786c26_ad18_11ea_9647_95ebb8726e2frow17_col6\" class=\"data row17 col6\" >0.967267</td>\n",
       "                        <td id=\"T_93786c26_ad18_11ea_9647_95ebb8726e2frow17_col7\" class=\"data row17 col7\" >0.033016</td>\n",
       "                        <td id=\"T_93786c26_ad18_11ea_9647_95ebb8726e2frow17_col8\" class=\"data row17 col8\" >18</td>\n",
       "            </tr>\n",
       "            <tr>\n",
       "                                <td id=\"T_93786c26_ad18_11ea_9647_95ebb8726e2frow18_col0\" class=\"data row18 col0\" >laplacian</td>\n",
       "                        <td id=\"T_93786c26_ad18_11ea_9647_95ebb8726e2frow18_col1\" class=\"data row18 col1\" >0.500000</td>\n",
       "                        <td id=\"T_93786c26_ad18_11ea_9647_95ebb8726e2frow18_col2\" class=\"data row18 col2\" >1000</td>\n",
       "                        <td id=\"T_93786c26_ad18_11ea_9647_95ebb8726e2frow18_col3\" class=\"data row18 col3\" >auto</td>\n",
       "                        <td id=\"T_93786c26_ad18_11ea_9647_95ebb8726e2frow18_col4\" class=\"data row18 col4\" >0.564436</td>\n",
       "                        <td id=\"T_93786c26_ad18_11ea_9647_95ebb8726e2frow18_col5\" class=\"data row18 col5\" >0.003022</td>\n",
       "                        <td id=\"T_93786c26_ad18_11ea_9647_95ebb8726e2frow18_col6\" class=\"data row18 col6\" >0.967342</td>\n",
       "                        <td id=\"T_93786c26_ad18_11ea_9647_95ebb8726e2frow18_col7\" class=\"data row18 col7\" >0.033028</td>\n",
       "                        <td id=\"T_93786c26_ad18_11ea_9647_95ebb8726e2frow18_col8\" class=\"data row18 col8\" >19</td>\n",
       "            </tr>\n",
       "            <tr>\n",
       "                                <td id=\"T_93786c26_ad18_11ea_9647_95ebb8726e2frow19_col0\" class=\"data row19 col0\" >laplacian</td>\n",
       "                        <td id=\"T_93786c26_ad18_11ea_9647_95ebb8726e2frow19_col1\" class=\"data row19 col1\" >0.400000</td>\n",
       "                        <td id=\"T_93786c26_ad18_11ea_9647_95ebb8726e2frow19_col2\" class=\"data row19 col2\" >10</td>\n",
       "                        <td id=\"T_93786c26_ad18_11ea_9647_95ebb8726e2frow19_col3\" class=\"data row19 col3\" >auto</td>\n",
       "                        <td id=\"T_93786c26_ad18_11ea_9647_95ebb8726e2frow19_col4\" class=\"data row19 col4\" >0.582201</td>\n",
       "                        <td id=\"T_93786c26_ad18_11ea_9647_95ebb8726e2frow19_col5\" class=\"data row19 col5\" >0.004427</td>\n",
       "                        <td id=\"T_93786c26_ad18_11ea_9647_95ebb8726e2frow19_col6\" class=\"data row19 col6\" >0.969354</td>\n",
       "                        <td id=\"T_93786c26_ad18_11ea_9647_95ebb8726e2frow19_col7\" class=\"data row19 col7\" >0.030505</td>\n",
       "                        <td id=\"T_93786c26_ad18_11ea_9647_95ebb8726e2frow19_col8\" class=\"data row19 col8\" >20</td>\n",
       "            </tr>\n",
       "            <tr>\n",
       "                                <td id=\"T_93786c26_ad18_11ea_9647_95ebb8726e2frow20_col0\" class=\"data row20 col0\" >laplacian</td>\n",
       "                        <td id=\"T_93786c26_ad18_11ea_9647_95ebb8726e2frow20_col1\" class=\"data row20 col1\" >0.500000</td>\n",
       "                        <td id=\"T_93786c26_ad18_11ea_9647_95ebb8726e2frow20_col2\" class=\"data row20 col2\" >10</td>\n",
       "                        <td id=\"T_93786c26_ad18_11ea_9647_95ebb8726e2frow20_col3\" class=\"data row20 col3\" >auto</td>\n",
       "                        <td id=\"T_93786c26_ad18_11ea_9647_95ebb8726e2frow20_col4\" class=\"data row20 col4\" >0.653666</td>\n",
       "                        <td id=\"T_93786c26_ad18_11ea_9647_95ebb8726e2frow20_col5\" class=\"data row20 col5\" >0.003692</td>\n",
       "                        <td id=\"T_93786c26_ad18_11ea_9647_95ebb8726e2frow20_col6\" class=\"data row20 col6\" >0.996184</td>\n",
       "                        <td id=\"T_93786c26_ad18_11ea_9647_95ebb8726e2frow20_col7\" class=\"data row20 col7\" >0.025959</td>\n",
       "                        <td id=\"T_93786c26_ad18_11ea_9647_95ebb8726e2frow20_col8\" class=\"data row20 col8\" >21</td>\n",
       "            </tr>\n",
       "            <tr>\n",
       "                                <td id=\"T_93786c26_ad18_11ea_9647_95ebb8726e2frow21_col0\" class=\"data row21 col0\" >gaussian</td>\n",
       "                        <td id=\"T_93786c26_ad18_11ea_9647_95ebb8726e2frow21_col1\" class=\"data row21 col1\" >0.010000</td>\n",
       "                        <td id=\"T_93786c26_ad18_11ea_9647_95ebb8726e2frow21_col2\" class=\"data row21 col2\" >10</td>\n",
       "                        <td id=\"T_93786c26_ad18_11ea_9647_95ebb8726e2frow21_col3\" class=\"data row21 col3\" >0.100000</td>\n",
       "                        <td id=\"T_93786c26_ad18_11ea_9647_95ebb8726e2frow21_col4\" class=\"data row21 col4\" >0.645173</td>\n",
       "                        <td id=\"T_93786c26_ad18_11ea_9647_95ebb8726e2frow21_col5\" class=\"data row21 col5\" >0.001527</td>\n",
       "                        <td id=\"T_93786c26_ad18_11ea_9647_95ebb8726e2frow21_col6\" class=\"data row21 col6\" >1.010899</td>\n",
       "                        <td id=\"T_93786c26_ad18_11ea_9647_95ebb8726e2frow21_col7\" class=\"data row21 col7\" >0.043416</td>\n",
       "                        <td id=\"T_93786c26_ad18_11ea_9647_95ebb8726e2frow21_col8\" class=\"data row21 col8\" >22</td>\n",
       "            </tr>\n",
       "            <tr>\n",
       "                                <td id=\"T_93786c26_ad18_11ea_9647_95ebb8726e2frow22_col0\" class=\"data row22 col0\" >gaussian</td>\n",
       "                        <td id=\"T_93786c26_ad18_11ea_9647_95ebb8726e2frow22_col1\" class=\"data row22 col1\" >0.100000</td>\n",
       "                        <td id=\"T_93786c26_ad18_11ea_9647_95ebb8726e2frow22_col2\" class=\"data row22 col2\" >10</td>\n",
       "                        <td id=\"T_93786c26_ad18_11ea_9647_95ebb8726e2frow22_col3\" class=\"data row22 col3\" >0.100000</td>\n",
       "                        <td id=\"T_93786c26_ad18_11ea_9647_95ebb8726e2frow22_col4\" class=\"data row22 col4\" >0.675554</td>\n",
       "                        <td id=\"T_93786c26_ad18_11ea_9647_95ebb8726e2frow22_col5\" class=\"data row22 col5\" >0.001466</td>\n",
       "                        <td id=\"T_93786c26_ad18_11ea_9647_95ebb8726e2frow22_col6\" class=\"data row22 col6\" >1.011309</td>\n",
       "                        <td id=\"T_93786c26_ad18_11ea_9647_95ebb8726e2frow22_col7\" class=\"data row22 col7\" >0.041349</td>\n",
       "                        <td id=\"T_93786c26_ad18_11ea_9647_95ebb8726e2frow22_col8\" class=\"data row22 col8\" >23</td>\n",
       "            </tr>\n",
       "            <tr>\n",
       "                                <td id=\"T_93786c26_ad18_11ea_9647_95ebb8726e2frow23_col0\" class=\"data row23 col0\" >gaussian</td>\n",
       "                        <td id=\"T_93786c26_ad18_11ea_9647_95ebb8726e2frow23_col1\" class=\"data row23 col1\" >0.001000</td>\n",
       "                        <td id=\"T_93786c26_ad18_11ea_9647_95ebb8726e2frow23_col2\" class=\"data row23 col2\" >10</td>\n",
       "                        <td id=\"T_93786c26_ad18_11ea_9647_95ebb8726e2frow23_col3\" class=\"data row23 col3\" >0.100000</td>\n",
       "                        <td id=\"T_93786c26_ad18_11ea_9647_95ebb8726e2frow23_col4\" class=\"data row23 col4\" >0.643126</td>\n",
       "                        <td id=\"T_93786c26_ad18_11ea_9647_95ebb8726e2frow23_col5\" class=\"data row23 col5\" >0.001571</td>\n",
       "                        <td id=\"T_93786c26_ad18_11ea_9647_95ebb8726e2frow23_col6\" class=\"data row23 col6\" >1.011705</td>\n",
       "                        <td id=\"T_93786c26_ad18_11ea_9647_95ebb8726e2frow23_col7\" class=\"data row23 col7\" >0.043729</td>\n",
       "                        <td id=\"T_93786c26_ad18_11ea_9647_95ebb8726e2frow23_col8\" class=\"data row23 col8\" >24</td>\n",
       "            </tr>\n",
       "            <tr>\n",
       "                                <td id=\"T_93786c26_ad18_11ea_9647_95ebb8726e2frow24_col0\" class=\"data row24 col0\" >gaussian</td>\n",
       "                        <td id=\"T_93786c26_ad18_11ea_9647_95ebb8726e2frow24_col1\" class=\"data row24 col1\" >0.100000</td>\n",
       "                        <td id=\"T_93786c26_ad18_11ea_9647_95ebb8726e2frow24_col2\" class=\"data row24 col2\" >100</td>\n",
       "                        <td id=\"T_93786c26_ad18_11ea_9647_95ebb8726e2frow24_col3\" class=\"data row24 col3\" >0.100000</td>\n",
       "                        <td id=\"T_93786c26_ad18_11ea_9647_95ebb8726e2frow24_col4\" class=\"data row24 col4\" >0.383370</td>\n",
       "                        <td id=\"T_93786c26_ad18_11ea_9647_95ebb8726e2frow24_col5\" class=\"data row24 col5\" >0.005831</td>\n",
       "                        <td id=\"T_93786c26_ad18_11ea_9647_95ebb8726e2frow24_col6\" class=\"data row24 col6\" >1.019218</td>\n",
       "                        <td id=\"T_93786c26_ad18_11ea_9647_95ebb8726e2frow24_col7\" class=\"data row24 col7\" >0.030511</td>\n",
       "                        <td id=\"T_93786c26_ad18_11ea_9647_95ebb8726e2frow24_col8\" class=\"data row24 col8\" >25</td>\n",
       "            </tr>\n",
       "            <tr>\n",
       "                                <td id=\"T_93786c26_ad18_11ea_9647_95ebb8726e2frow25_col0\" class=\"data row25 col0\" >gaussian</td>\n",
       "                        <td id=\"T_93786c26_ad18_11ea_9647_95ebb8726e2frow25_col1\" class=\"data row25 col1\" >0.010000</td>\n",
       "                        <td id=\"T_93786c26_ad18_11ea_9647_95ebb8726e2frow25_col2\" class=\"data row25 col2\" >100</td>\n",
       "                        <td id=\"T_93786c26_ad18_11ea_9647_95ebb8726e2frow25_col3\" class=\"data row25 col3\" >0.100000</td>\n",
       "                        <td id=\"T_93786c26_ad18_11ea_9647_95ebb8726e2frow25_col4\" class=\"data row25 col4\" >0.315850</td>\n",
       "                        <td id=\"T_93786c26_ad18_11ea_9647_95ebb8726e2frow25_col5\" class=\"data row25 col5\" >0.006210</td>\n",
       "                        <td id=\"T_93786c26_ad18_11ea_9647_95ebb8726e2frow25_col6\" class=\"data row25 col6\" >1.020469</td>\n",
       "                        <td id=\"T_93786c26_ad18_11ea_9647_95ebb8726e2frow25_col7\" class=\"data row25 col7\" >0.027471</td>\n",
       "                        <td id=\"T_93786c26_ad18_11ea_9647_95ebb8726e2frow25_col8\" class=\"data row25 col8\" >26</td>\n",
       "            </tr>\n",
       "            <tr>\n",
       "                                <td id=\"T_93786c26_ad18_11ea_9647_95ebb8726e2frow26_col0\" class=\"data row26 col0\" >gaussian</td>\n",
       "                        <td id=\"T_93786c26_ad18_11ea_9647_95ebb8726e2frow26_col1\" class=\"data row26 col1\" >0.200000</td>\n",
       "                        <td id=\"T_93786c26_ad18_11ea_9647_95ebb8726e2frow26_col2\" class=\"data row26 col2\" >10</td>\n",
       "                        <td id=\"T_93786c26_ad18_11ea_9647_95ebb8726e2frow26_col3\" class=\"data row26 col3\" >0.100000</td>\n",
       "                        <td id=\"T_93786c26_ad18_11ea_9647_95ebb8726e2frow26_col4\" class=\"data row26 col4\" >0.714006</td>\n",
       "                        <td id=\"T_93786c26_ad18_11ea_9647_95ebb8726e2frow26_col5\" class=\"data row26 col5\" >0.001773</td>\n",
       "                        <td id=\"T_93786c26_ad18_11ea_9647_95ebb8726e2frow26_col6\" class=\"data row26 col6\" >1.021317</td>\n",
       "                        <td id=\"T_93786c26_ad18_11ea_9647_95ebb8726e2frow26_col7\" class=\"data row26 col7\" >0.043953</td>\n",
       "                        <td id=\"T_93786c26_ad18_11ea_9647_95ebb8726e2frow26_col8\" class=\"data row26 col8\" >27</td>\n",
       "            </tr>\n",
       "            <tr>\n",
       "                                <td id=\"T_93786c26_ad18_11ea_9647_95ebb8726e2frow27_col0\" class=\"data row27 col0\" >gaussian</td>\n",
       "                        <td id=\"T_93786c26_ad18_11ea_9647_95ebb8726e2frow27_col1\" class=\"data row27 col1\" >0.001000</td>\n",
       "                        <td id=\"T_93786c26_ad18_11ea_9647_95ebb8726e2frow27_col2\" class=\"data row27 col2\" >100</td>\n",
       "                        <td id=\"T_93786c26_ad18_11ea_9647_95ebb8726e2frow27_col3\" class=\"data row27 col3\" >0.100000</td>\n",
       "                        <td id=\"T_93786c26_ad18_11ea_9647_95ebb8726e2frow27_col4\" class=\"data row27 col4\" >0.310469</td>\n",
       "                        <td id=\"T_93786c26_ad18_11ea_9647_95ebb8726e2frow27_col5\" class=\"data row27 col5\" >0.006189</td>\n",
       "                        <td id=\"T_93786c26_ad18_11ea_9647_95ebb8726e2frow27_col6\" class=\"data row27 col6\" >1.021814</td>\n",
       "                        <td id=\"T_93786c26_ad18_11ea_9647_95ebb8726e2frow27_col7\" class=\"data row27 col7\" >0.027199</td>\n",
       "                        <td id=\"T_93786c26_ad18_11ea_9647_95ebb8726e2frow27_col8\" class=\"data row27 col8\" >28</td>\n",
       "            </tr>\n",
       "            <tr>\n",
       "                                <td id=\"T_93786c26_ad18_11ea_9647_95ebb8726e2frow28_col0\" class=\"data row28 col0\" >gaussian</td>\n",
       "                        <td id=\"T_93786c26_ad18_11ea_9647_95ebb8726e2frow28_col1\" class=\"data row28 col1\" >0.001000</td>\n",
       "                        <td id=\"T_93786c26_ad18_11ea_9647_95ebb8726e2frow28_col2\" class=\"data row28 col2\" >100</td>\n",
       "                        <td id=\"T_93786c26_ad18_11ea_9647_95ebb8726e2frow28_col3\" class=\"data row28 col3\" >auto</td>\n",
       "                        <td id=\"T_93786c26_ad18_11ea_9647_95ebb8726e2frow28_col4\" class=\"data row28 col4\" >0.604328</td>\n",
       "                        <td id=\"T_93786c26_ad18_11ea_9647_95ebb8726e2frow28_col5\" class=\"data row28 col5\" >0.003777</td>\n",
       "                        <td id=\"T_93786c26_ad18_11ea_9647_95ebb8726e2frow28_col6\" class=\"data row28 col6\" >1.027913</td>\n",
       "                        <td id=\"T_93786c26_ad18_11ea_9647_95ebb8726e2frow28_col7\" class=\"data row28 col7\" >0.037606</td>\n",
       "                        <td id=\"T_93786c26_ad18_11ea_9647_95ebb8726e2frow28_col8\" class=\"data row28 col8\" >29</td>\n",
       "            </tr>\n",
       "            <tr>\n",
       "                                <td id=\"T_93786c26_ad18_11ea_9647_95ebb8726e2frow29_col0\" class=\"data row29 col0\" >gaussian</td>\n",
       "                        <td id=\"T_93786c26_ad18_11ea_9647_95ebb8726e2frow29_col1\" class=\"data row29 col1\" >0.010000</td>\n",
       "                        <td id=\"T_93786c26_ad18_11ea_9647_95ebb8726e2frow29_col2\" class=\"data row29 col2\" >100</td>\n",
       "                        <td id=\"T_93786c26_ad18_11ea_9647_95ebb8726e2frow29_col3\" class=\"data row29 col3\" >auto</td>\n",
       "                        <td id=\"T_93786c26_ad18_11ea_9647_95ebb8726e2frow29_col4\" class=\"data row29 col4\" >0.606465</td>\n",
       "                        <td id=\"T_93786c26_ad18_11ea_9647_95ebb8726e2frow29_col5\" class=\"data row29 col5\" >0.003699</td>\n",
       "                        <td id=\"T_93786c26_ad18_11ea_9647_95ebb8726e2frow29_col6\" class=\"data row29 col6\" >1.027984</td>\n",
       "                        <td id=\"T_93786c26_ad18_11ea_9647_95ebb8726e2frow29_col7\" class=\"data row29 col7\" >0.037846</td>\n",
       "                        <td id=\"T_93786c26_ad18_11ea_9647_95ebb8726e2frow29_col8\" class=\"data row29 col8\" >30</td>\n",
       "            </tr>\n",
       "            <tr>\n",
       "                                <td id=\"T_93786c26_ad18_11ea_9647_95ebb8726e2frow30_col0\" class=\"data row30 col0\" >gaussian</td>\n",
       "                        <td id=\"T_93786c26_ad18_11ea_9647_95ebb8726e2frow30_col1\" class=\"data row30 col1\" >0.010000</td>\n",
       "                        <td id=\"T_93786c26_ad18_11ea_9647_95ebb8726e2frow30_col2\" class=\"data row30 col2\" >100</td>\n",
       "                        <td id=\"T_93786c26_ad18_11ea_9647_95ebb8726e2frow30_col3\" class=\"data row30 col3\" >scale</td>\n",
       "                        <td id=\"T_93786c26_ad18_11ea_9647_95ebb8726e2frow30_col4\" class=\"data row30 col4\" >0.622077</td>\n",
       "                        <td id=\"T_93786c26_ad18_11ea_9647_95ebb8726e2frow30_col5\" class=\"data row30 col5\" >0.006145</td>\n",
       "                        <td id=\"T_93786c26_ad18_11ea_9647_95ebb8726e2frow30_col6\" class=\"data row30 col6\" >1.028009</td>\n",
       "                        <td id=\"T_93786c26_ad18_11ea_9647_95ebb8726e2frow30_col7\" class=\"data row30 col7\" >0.038580</td>\n",
       "                        <td id=\"T_93786c26_ad18_11ea_9647_95ebb8726e2frow30_col8\" class=\"data row30 col8\" >31</td>\n",
       "            </tr>\n",
       "            <tr>\n",
       "                                <td id=\"T_93786c26_ad18_11ea_9647_95ebb8726e2frow31_col0\" class=\"data row31 col0\" >gaussian</td>\n",
       "                        <td id=\"T_93786c26_ad18_11ea_9647_95ebb8726e2frow31_col1\" class=\"data row31 col1\" >0.001000</td>\n",
       "                        <td id=\"T_93786c26_ad18_11ea_9647_95ebb8726e2frow31_col2\" class=\"data row31 col2\" >100</td>\n",
       "                        <td id=\"T_93786c26_ad18_11ea_9647_95ebb8726e2frow31_col3\" class=\"data row31 col3\" >scale</td>\n",
       "                        <td id=\"T_93786c26_ad18_11ea_9647_95ebb8726e2frow31_col4\" class=\"data row31 col4\" >0.620069</td>\n",
       "                        <td id=\"T_93786c26_ad18_11ea_9647_95ebb8726e2frow31_col5\" class=\"data row31 col5\" >0.006244</td>\n",
       "                        <td id=\"T_93786c26_ad18_11ea_9647_95ebb8726e2frow31_col6\" class=\"data row31 col6\" >1.028082</td>\n",
       "                        <td id=\"T_93786c26_ad18_11ea_9647_95ebb8726e2frow31_col7\" class=\"data row31 col7\" >0.038258</td>\n",
       "                        <td id=\"T_93786c26_ad18_11ea_9647_95ebb8726e2frow31_col8\" class=\"data row31 col8\" >32</td>\n",
       "            </tr>\n",
       "            <tr>\n",
       "                                <td id=\"T_93786c26_ad18_11ea_9647_95ebb8726e2frow32_col0\" class=\"data row32 col0\" >gaussian</td>\n",
       "                        <td id=\"T_93786c26_ad18_11ea_9647_95ebb8726e2frow32_col1\" class=\"data row32 col1\" >0.200000</td>\n",
       "                        <td id=\"T_93786c26_ad18_11ea_9647_95ebb8726e2frow32_col2\" class=\"data row32 col2\" >100</td>\n",
       "                        <td id=\"T_93786c26_ad18_11ea_9647_95ebb8726e2frow32_col3\" class=\"data row32 col3\" >0.100000</td>\n",
       "                        <td id=\"T_93786c26_ad18_11ea_9647_95ebb8726e2frow32_col4\" class=\"data row32 col4\" >0.458926</td>\n",
       "                        <td id=\"T_93786c26_ad18_11ea_9647_95ebb8726e2frow32_col5\" class=\"data row32 col5\" >0.005696</td>\n",
       "                        <td id=\"T_93786c26_ad18_11ea_9647_95ebb8726e2frow32_col6\" class=\"data row32 col6\" >1.035724</td>\n",
       "                        <td id=\"T_93786c26_ad18_11ea_9647_95ebb8726e2frow32_col7\" class=\"data row32 col7\" >0.035245</td>\n",
       "                        <td id=\"T_93786c26_ad18_11ea_9647_95ebb8726e2frow32_col8\" class=\"data row32 col8\" >33</td>\n",
       "            </tr>\n",
       "            <tr>\n",
       "                                <td id=\"T_93786c26_ad18_11ea_9647_95ebb8726e2frow33_col0\" class=\"data row33 col0\" >gaussian</td>\n",
       "                        <td id=\"T_93786c26_ad18_11ea_9647_95ebb8726e2frow33_col1\" class=\"data row33 col1\" >0.100000</td>\n",
       "                        <td id=\"T_93786c26_ad18_11ea_9647_95ebb8726e2frow33_col2\" class=\"data row33 col2\" >100</td>\n",
       "                        <td id=\"T_93786c26_ad18_11ea_9647_95ebb8726e2frow33_col3\" class=\"data row33 col3\" >auto</td>\n",
       "                        <td id=\"T_93786c26_ad18_11ea_9647_95ebb8726e2frow33_col4\" class=\"data row33 col4\" >0.638915</td>\n",
       "                        <td id=\"T_93786c26_ad18_11ea_9647_95ebb8726e2frow33_col5\" class=\"data row33 col5\" >0.003596</td>\n",
       "                        <td id=\"T_93786c26_ad18_11ea_9647_95ebb8726e2frow33_col6\" class=\"data row33 col6\" >1.036246</td>\n",
       "                        <td id=\"T_93786c26_ad18_11ea_9647_95ebb8726e2frow33_col7\" class=\"data row33 col7\" >0.038793</td>\n",
       "                        <td id=\"T_93786c26_ad18_11ea_9647_95ebb8726e2frow33_col8\" class=\"data row33 col8\" >34</td>\n",
       "            </tr>\n",
       "            <tr>\n",
       "                                <td id=\"T_93786c26_ad18_11ea_9647_95ebb8726e2frow34_col0\" class=\"data row34 col0\" >gaussian</td>\n",
       "                        <td id=\"T_93786c26_ad18_11ea_9647_95ebb8726e2frow34_col1\" class=\"data row34 col1\" >0.100000</td>\n",
       "                        <td id=\"T_93786c26_ad18_11ea_9647_95ebb8726e2frow34_col2\" class=\"data row34 col2\" >100</td>\n",
       "                        <td id=\"T_93786c26_ad18_11ea_9647_95ebb8726e2frow34_col3\" class=\"data row34 col3\" >scale</td>\n",
       "                        <td id=\"T_93786c26_ad18_11ea_9647_95ebb8726e2frow34_col4\" class=\"data row34 col4\" >0.652918</td>\n",
       "                        <td id=\"T_93786c26_ad18_11ea_9647_95ebb8726e2frow34_col5\" class=\"data row34 col5\" >0.005410</td>\n",
       "                        <td id=\"T_93786c26_ad18_11ea_9647_95ebb8726e2frow34_col6\" class=\"data row34 col6\" >1.036375</td>\n",
       "                        <td id=\"T_93786c26_ad18_11ea_9647_95ebb8726e2frow34_col7\" class=\"data row34 col7\" >0.039934</td>\n",
       "                        <td id=\"T_93786c26_ad18_11ea_9647_95ebb8726e2frow34_col8\" class=\"data row34 col8\" >35</td>\n",
       "            </tr>\n",
       "            <tr>\n",
       "                                <td id=\"T_93786c26_ad18_11ea_9647_95ebb8726e2frow35_col0\" class=\"data row35 col0\" >gaussian</td>\n",
       "                        <td id=\"T_93786c26_ad18_11ea_9647_95ebb8726e2frow35_col1\" class=\"data row35 col1\" >0.300000</td>\n",
       "                        <td id=\"T_93786c26_ad18_11ea_9647_95ebb8726e2frow35_col2\" class=\"data row35 col2\" >10</td>\n",
       "                        <td id=\"T_93786c26_ad18_11ea_9647_95ebb8726e2frow35_col3\" class=\"data row35 col3\" >0.100000</td>\n",
       "                        <td id=\"T_93786c26_ad18_11ea_9647_95ebb8726e2frow35_col4\" class=\"data row35 col4\" >0.753520</td>\n",
       "                        <td id=\"T_93786c26_ad18_11ea_9647_95ebb8726e2frow35_col5\" class=\"data row35 col5\" >0.003719</td>\n",
       "                        <td id=\"T_93786c26_ad18_11ea_9647_95ebb8726e2frow35_col6\" class=\"data row35 col6\" >1.040074</td>\n",
       "                        <td id=\"T_93786c26_ad18_11ea_9647_95ebb8726e2frow35_col7\" class=\"data row35 col7\" >0.043498</td>\n",
       "                        <td id=\"T_93786c26_ad18_11ea_9647_95ebb8726e2frow35_col8\" class=\"data row35 col8\" >36</td>\n",
       "            </tr>\n",
       "            <tr>\n",
       "                                <td id=\"T_93786c26_ad18_11ea_9647_95ebb8726e2frow36_col0\" class=\"data row36 col0\" >gaussian</td>\n",
       "                        <td id=\"T_93786c26_ad18_11ea_9647_95ebb8726e2frow36_col1\" class=\"data row36 col1\" >0.200000</td>\n",
       "                        <td id=\"T_93786c26_ad18_11ea_9647_95ebb8726e2frow36_col2\" class=\"data row36 col2\" >100</td>\n",
       "                        <td id=\"T_93786c26_ad18_11ea_9647_95ebb8726e2frow36_col3\" class=\"data row36 col3\" >auto</td>\n",
       "                        <td id=\"T_93786c26_ad18_11ea_9647_95ebb8726e2frow36_col4\" class=\"data row36 col4\" >0.679222</td>\n",
       "                        <td id=\"T_93786c26_ad18_11ea_9647_95ebb8726e2frow36_col5\" class=\"data row36 col5\" >0.004314</td>\n",
       "                        <td id=\"T_93786c26_ad18_11ea_9647_95ebb8726e2frow36_col6\" class=\"data row36 col6\" >1.046180</td>\n",
       "                        <td id=\"T_93786c26_ad18_11ea_9647_95ebb8726e2frow36_col7\" class=\"data row36 col7\" >0.044463</td>\n",
       "                        <td id=\"T_93786c26_ad18_11ea_9647_95ebb8726e2frow36_col8\" class=\"data row36 col8\" >37</td>\n",
       "            </tr>\n",
       "            <tr>\n",
       "                                <td id=\"T_93786c26_ad18_11ea_9647_95ebb8726e2frow37_col0\" class=\"data row37 col0\" >gaussian</td>\n",
       "                        <td id=\"T_93786c26_ad18_11ea_9647_95ebb8726e2frow37_col1\" class=\"data row37 col1\" >0.200000</td>\n",
       "                        <td id=\"T_93786c26_ad18_11ea_9647_95ebb8726e2frow37_col2\" class=\"data row37 col2\" >100</td>\n",
       "                        <td id=\"T_93786c26_ad18_11ea_9647_95ebb8726e2frow37_col3\" class=\"data row37 col3\" >scale</td>\n",
       "                        <td id=\"T_93786c26_ad18_11ea_9647_95ebb8726e2frow37_col4\" class=\"data row37 col4\" >0.691412</td>\n",
       "                        <td id=\"T_93786c26_ad18_11ea_9647_95ebb8726e2frow37_col5\" class=\"data row37 col5\" >0.005924</td>\n",
       "                        <td id=\"T_93786c26_ad18_11ea_9647_95ebb8726e2frow37_col6\" class=\"data row37 col6\" >1.047155</td>\n",
       "                        <td id=\"T_93786c26_ad18_11ea_9647_95ebb8726e2frow37_col7\" class=\"data row37 col7\" >0.045031</td>\n",
       "                        <td id=\"T_93786c26_ad18_11ea_9647_95ebb8726e2frow37_col8\" class=\"data row37 col8\" >38</td>\n",
       "            </tr>\n",
       "            <tr>\n",
       "                                <td id=\"T_93786c26_ad18_11ea_9647_95ebb8726e2frow38_col0\" class=\"data row38 col0\" >gaussian</td>\n",
       "                        <td id=\"T_93786c26_ad18_11ea_9647_95ebb8726e2frow38_col1\" class=\"data row38 col1\" >0.400000</td>\n",
       "                        <td id=\"T_93786c26_ad18_11ea_9647_95ebb8726e2frow38_col2\" class=\"data row38 col2\" >10</td>\n",
       "                        <td id=\"T_93786c26_ad18_11ea_9647_95ebb8726e2frow38_col3\" class=\"data row38 col3\" >0.100000</td>\n",
       "                        <td id=\"T_93786c26_ad18_11ea_9647_95ebb8726e2frow38_col4\" class=\"data row38 col4\" >0.791601</td>\n",
       "                        <td id=\"T_93786c26_ad18_11ea_9647_95ebb8726e2frow38_col5\" class=\"data row38 col5\" >0.004700</td>\n",
       "                        <td id=\"T_93786c26_ad18_11ea_9647_95ebb8726e2frow38_col6\" class=\"data row38 col6\" >1.058455</td>\n",
       "                        <td id=\"T_93786c26_ad18_11ea_9647_95ebb8726e2frow38_col7\" class=\"data row38 col7\" >0.042345</td>\n",
       "                        <td id=\"T_93786c26_ad18_11ea_9647_95ebb8726e2frow38_col8\" class=\"data row38 col8\" >39</td>\n",
       "            </tr>\n",
       "            <tr>\n",
       "                                <td id=\"T_93786c26_ad18_11ea_9647_95ebb8726e2frow39_col0\" class=\"data row39 col0\" >gaussian</td>\n",
       "                        <td id=\"T_93786c26_ad18_11ea_9647_95ebb8726e2frow39_col1\" class=\"data row39 col1\" >0.300000</td>\n",
       "                        <td id=\"T_93786c26_ad18_11ea_9647_95ebb8726e2frow39_col2\" class=\"data row39 col2\" >100</td>\n",
       "                        <td id=\"T_93786c26_ad18_11ea_9647_95ebb8726e2frow39_col3\" class=\"data row39 col3\" >0.100000</td>\n",
       "                        <td id=\"T_93786c26_ad18_11ea_9647_95ebb8726e2frow39_col4\" class=\"data row39 col4\" >0.533881</td>\n",
       "                        <td id=\"T_93786c26_ad18_11ea_9647_95ebb8726e2frow39_col5\" class=\"data row39 col5\" >0.005946</td>\n",
       "                        <td id=\"T_93786c26_ad18_11ea_9647_95ebb8726e2frow39_col6\" class=\"data row39 col6\" >1.061062</td>\n",
       "                        <td id=\"T_93786c26_ad18_11ea_9647_95ebb8726e2frow39_col7\" class=\"data row39 col7\" >0.037380</td>\n",
       "                        <td id=\"T_93786c26_ad18_11ea_9647_95ebb8726e2frow39_col8\" class=\"data row39 col8\" >40</td>\n",
       "            </tr>\n",
       "    </tbody></table>"
      ],
      "text/plain": [
       "<pandas.io.formats.style.Styler at 0x7f5becfb7040>"
      ]
     },
     "execution_count": 154,
     "metadata": {},
     "output_type": "execute_result"
    }
   ],
   "source": [
    "import pandas as pd\n",
    "\n",
    "df = pd.DataFrame(grid.cv_results_)[['param_estimator__kernel', 'param_estimator__epsilon', \n",
    "                                     'param_estimator__C', 'param_estimator__gamma', \n",
    "                                     'mean_train_score', 'std_train_score', \n",
    "                                     'mean_test_score', 'std_test_score', \n",
    "                                     'rank_test_score']].sort_values(by='rank_test_score')\n",
    "df.rename(columns={'param_estimator__kernel': 'kernel',\n",
    "                   'param_estimator__epsilon': 'epsilon',\n",
    "                   'param_estimator__C': 'C',\n",
    "                   'param_estimator__gamma': 'gamma',\n",
    "                   'mean_test_score': 'mean_val_score',\n",
    "                   'std_test_score': 'std_val_score',\n",
    "                   'rank_test_score': 'rank_val_score'}, inplace=True)\n",
    "df.mean_train_score *= -1\n",
    "df.mean_val_score *= -1\n",
    "\n",
    "def highlight_equal(s, value, column):\n",
    "    is_max = pd.Series(data=False, index=s.index)\n",
    "    is_max[column] = s.loc[column] == value\n",
    "    return ['background-color: lightyellow' if is_max.any() else '' for v in is_max]\n",
    "\n",
    "df.head(40).style.apply(highlight_equal, value=1, column=['rank_val_score'], axis=1).hide_index()"
   ]
  },
  {
   "cell_type": "markdown",
   "metadata": {},
   "source": [
    "So, the score on the evaluation set is:"
   ]
  },
  {
   "cell_type": "code",
   "execution_count": 155,
   "metadata": {},
   "outputs": [
    {
     "data": {
      "text/plain": [
       "0.7191566331390251"
      ]
     },
     "execution_count": 155,
     "metadata": {},
     "output_type": "execute_result"
    }
   ],
   "source": [
    "mean_euclidean_error(grid.best_estimator_.predict(X_test), y_test)"
   ]
  },
  {
   "cell_type": "markdown",
   "metadata": {},
   "source": [
    "Plot validation curve to visualize the performance metric over a range of values for some hyperparameters:"
   ]
  },
  {
   "cell_type": "code",
   "execution_count": 133,
   "metadata": {},
   "outputs": [
    {
     "data": {
      "image/png": "[encoded data removed]",
      "text/plain": [
       "<Figure size 432x288 with 1 Axes>"
      ]
     },
     "metadata": {},
     "output_type": "display_data"
    },
    {
     "data": {
      "image/png": "[encoded data removed]",
      "text/plain": [
       "<Figure size 432x288 with 1 Axes>"
      ]
     },
     "metadata": {},
     "output_type": "display_data"
    }
   ],
   "source": [
    "from optiml.ml.utils import plot_validation_curve\n",
    "\n",
    "mean_euclidean_error = make_scorer(mean_euclidean_error)\n",
    "\n",
    "plot_validation_curve(grid.best_estimator_, X, y, 'estimator__epsilon', epsilon_range, mean_euclidean_error)\n",
    "plot_validation_curve(grid.best_estimator_, X, y, 'estimator__C', C_range, mean_euclidean_error)"
   ]
  },
  {
   "cell_type": "markdown",
   "metadata": {},
   "source": [
    "Plot learning curve to visualize the effect of the number of observations on the performance metric:"
   ]
  },
  {
   "cell_type": "code",
   "execution_count": 134,
   "metadata": {},
   "outputs": [
    {
     "data": {
      "image/png": "[encoded data removed]",
      "text/plain": [
       "<Figure size 432x288 with 1 Axes>"
      ]
     },
     "metadata": {},
     "output_type": "display_data"
    }
   ],
   "source": [
    "from optiml.ml.utils import plot_validation_curve, plot_learning_curve\n",
    "\n",
    "plot_learning_curve(grid.best_estimator_, X, y, mean_euclidean_error)"
   ]
  },
  {
   "cell_type": "markdown",
   "metadata": {},
   "source": [
    "Finally, refit the best model on the whole dataset and then save the predictions over blind test set:"
   ]
  },
  {
   "cell_type": "code",
   "execution_count": 156,
   "metadata": {},
   "outputs": [],
   "source": [
    "grid.best_estimator_.fit(X, y)\n",
    "np.savetxt(module_path + '/optiml/ml/data/ML-CUP19/dmeoli_ML-CUP19-TS.csv', \n",
    "           grid.best_estimator_.predict(load_ml_cup_blind()), delimiter=',')"
   ]
  },
  {
   "cell_type": "markdown",
   "metadata": {},
   "source": [
    "The predicted results with the best estimator found trough the previously performed model selection are available in the ***dmeoli_ML-CUP19-TS.csv*** file."
   ]
  },
  {
   "cell_type": "markdown",
   "metadata": {},
   "source": [
    "## Conclusions"
   ]
  },
  {
   "cell_type": "markdown",
   "metadata": {},
   "source": [
    "The choice to train a SVR rather than a *Neural Network* was dictated by my personal fascination about the versatility of the SVM formulation in such differents ways. From the most immediate and simplest, i.e, as a *primal formulation* which gives rise to an unconstrained optimization problem, going from more complex and powerful formulation, i.e, as a constrained quadratic optimization problem deriving from the *Wolfe dual* of the primal problem; up to formulations as constraints relaxation, e.g., as an unconstrained quadratic optimization problem deriving from the *Lagrangian bi-dual relaxation* of the constraints in the Wolfe dual.\n",
    "\n",
    "Also, for performance and efficiency reasons, the training phase over ML-CUP19 was done with a custom reimplementation of the Platt's *Sequential Minimal Optimization* algorithm [[1]](#ref-1) (see [[2]](#ref-2) for improvements) initially developed for the classification problem and then adapted [[3]](#ref-3) and improved [[4]](#ref-4) also for regression. According to the state of art, it is considered the best-known way to train a SVM in its *Wolfe dual* formulation since it breaks up the original large QP problem into a series of smallest possible problems, which are then solved analytically."
   ]
  },
  {
   "cell_type": "markdown",
   "metadata": {},
   "source": [
    "## Acknowledgements"
   ]
  },
  {
   "cell_type": "markdown",
   "metadata": {},
   "source": [
    "I agree to the disclosure and publication of my name, and of the results with preliminary and final ranking."
   ]
  },
  {
   "cell_type": "markdown",
   "metadata": {},
   "source": [
    "## References"
   ]
  },
  {
   "cell_type": "markdown",
   "metadata": {},
   "source": [
    "[[1]](#ref-1) John C. Platt. _Sequential Minimal Optimization: A Fast Algorithm for Training Support Vector Machines._\n",
    "\n",
    "[[2]](#ref-2) S.S. Keerthi, S.K. Shevade, C. Bhattacharyya, K.R.K. Murthy. _Improvements to Platt's SMO Algorithm for SVM Classifier Design._\n",
    "\n",
    "[[3]](#ref-3) G. W. Flake, S. Lawrence. _Efficient SVM Regression Training with SMO._\n",
    "\n",
    "[[4]](#ref-4) S.K. Shevade, S.S. Keerthi, C. Bhattacharyya, K.R.K. Murthy. _Improvements to SMO Algorithm for SVM Regression._"
   ]
  }
 ],
 "metadata": {
  "kernelspec": {
   "display_name": "Python 3",
   "language": "python",
   "name": "python3"
  },
  "language_info": {
   "codemirror_mode": {
    "name": "ipython",
    "version": 3
   },
   "file_extension": ".py",
   "mimetype": "text/x-python",
   "name": "python",
   "nbconvert_exporter": "python",
   "pygments_lexer": "ipython3",
   "version": "3.8.2"
  }
 },
 "nbformat": 4,
 "nbformat_minor": 4
}
