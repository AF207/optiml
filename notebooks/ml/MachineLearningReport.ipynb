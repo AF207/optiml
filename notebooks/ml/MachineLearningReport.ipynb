{
 "cells": [
  {
   "cell_type": "code",
   "execution_count": 10,
   "metadata": {
    "hideCode": true,
    "hidePrompt": true
   },
   "outputs": [],
   "source": [
    "import os\n",
    "import sys\n",
    "\n",
    "module_path = os.path.abspath(os.path.join('../..'))\n",
    "\n",
    "if module_path not in sys.path:\n",
    "    sys.path.append(module_path)"
   ]
  },
  {
   "cell_type": "markdown",
   "metadata": {
    "hidePrompt": false
   },
   "source": [
    "# <center>Machine Learning Report</center>\n",
    "### <center>Donato Meoli</center>\n",
    "#### <center>d.meoli@studenti.unipi.it</center>\n",
    "\n",
    "<center>Machine Learning course 654AA</center>\n",
    "<center>Academic year: 2019/2020</center>\n",
    "\n",
    "<center>Type of project: A with Computational Mathematics</center>"
   ]
  },
  {
   "cell_type": "markdown",
   "metadata": {},
   "source": [
    "## Abstract"
   ]
  },
  {
   "cell_type": "markdown",
   "metadata": {},
   "source": [
    "The aim of this project report is to briefly describe the contents of the *OptiML* library, for what about the *ml* module, and to show the training results on the *Monk's* classification problem, used as a benchmark for testing the learning models, and the model selection results on the **ML-CUP19** regression problem.\n",
    "\n",
    "The latter refers to an academic competition within the Machine Learning course for which a **MEE** of **0.7** was achieved on the *evaluation set* (TS), the 20% of the whole dataset, using a **Support Vector Regression** with a **Laplacian kernel**. \n",
    "\n",
    "The model selection was done with a grid search for tuning the hyperparameters of the model and, for each combination of them, a 5 fold cross-validation was performed. A *MEE* of *0.002* and *0.83* and was achieved on the *development set*, the 80% of the whole dataset, *training* (TR) and *validation* (VL) respectively."
   ]
  },
  {
   "cell_type": "markdown",
   "metadata": {},
   "source": [
    "## Introduction"
   ]
  },
  {
   "cell_type": "markdown",
   "metadata": {},
   "source": [
    "This software, for what about the *ml* module, is a *sklearn compatible* implementation of *Support Vector Machines* and *Deep Neural Networks*, both with some of the most successful features according to the state of art.\n",
    "\n",
    "This work, in all its parts, was motivated by the possibility of being able to solve the optimization problem deriving from the mathematical formulation of the leraning models through a wide range of optimization algorithms object of study and developed for the *Computational Mathematics* course."
   ]
  },
  {
   "cell_type": "markdown",
   "metadata": {},
   "source": [
    "## Contents"
   ]
  },
  {
   "cell_type": "markdown",
   "metadata": {},
   "source": [
    "For what about the *ml* module of this software, the following learning models with the releated features are supported:\n",
    "\n",
    "- ***Support Vector Machines***\n",
    "    - SVC in its *primal formulation* with:\n",
    "        - Hinge (L1 Loss)\n",
    "        - Squared Hinge (L2 Loss)\n",
    "    - SVR in its *primal formulation* with: \n",
    "        - Epsilon-Insensitive (L1 Loss)\n",
    "        - Squared Epsilon-Insensitive (L2 Loss)\n",
    "    - SVC and SVR in its *dual formulation* with *linear*, *polynomial*, *gaussian*, *laplacian* and *sigmoid* kernels.\n",
    "- ***Neural Networks***\n",
    "    - Losses\n",
    "        - Mean Squared Error (L2 Loss)\n",
    "        - Mean Absolute Error (L1 Loss)\n",
    "        - Binary Cross Entropy\n",
    "        - Categorical Cross Entropy\n",
    "        - Sparse Categorical Cross Entropy\n",
    "    - Regularizers\n",
    "        - L1 or Lasso\n",
    "        - L2 or Ridge or Tikhonov\n",
    "    - Activations\n",
    "        - Sigmoid\n",
    "        - Tanh\n",
    "        - ReLU\n",
    "        - SoftMax\n",
    "    - Initializers\n",
    "        - Xavier or Glorot normal and uniform"
   ]
  },
  {
   "cell_type": "markdown",
   "metadata": {},
   "source": [
    "## Experiments"
   ]
  },
  {
   "cell_type": "markdown",
   "metadata": {},
   "source": [
    "### Monk's Problem"
   ]
  },
  {
   "cell_type": "markdown",
   "metadata": {},
   "source": [
    "In this first section we are going to show firstly how the implementation of both, *Support Vector Machines* and *Neural Networks*, works correctly on the Monk’s problem, used as a benchmark for the latter experiments. \n",
    "\n",
    "All these data have been preprocessed with a one-hot-encoding to make them linearly separable."
   ]
  },
  {
   "cell_type": "markdown",
   "metadata": {},
   "source": [
    "#### Support Vector Classifier"
   ]
  },
  {
   "cell_type": "markdown",
   "metadata": {},
   "source": [
    "In case of *Support Vector Classifier* we are going to use an implementation that exploits the *Wolfe dual* formulation of the latter also to show the kernel trick usage. For what about the optimizer we can choose one method of those available: *SMO Classifier*, *Projected Gradient*, *Active Set*, *Interior Point* or *Frank Wolfe* method.\n",
    "\n",
    "Alternatively, by specifying an unconstrained one, the *Wolfe dual* constraints will be relaxed into a *Lagrangian bi-dual* formulation."
   ]
  },
  {
   "cell_type": "code",
   "execution_count": 11,
   "metadata": {
    "hideCode": true,
    "hidePrompt": true
   },
   "outputs": [],
   "source": [
    "import numpy as np\n",
    "\n",
    "from optiml.ml.svm import DualSVC\n",
    "from optiml.ml.svm.kernels import PolyKernel\n",
    "\n",
    "from optiml.opti.constrained.bcqp import *\n",
    "\n",
    "from sklearn.datasets import fetch_openml\n",
    "from sklearn.preprocessing import OneHotEncoder\n",
    "from sklearn.metrics import accuracy_score"
   ]
  },
  {
   "cell_type": "markdown",
   "metadata": {},
   "source": [
    "##### Monk #1"
   ]
  },
  {
   "cell_type": "code",
   "execution_count": 12,
   "metadata": {
    "hideCode": true,
    "hidePrompt": true
   },
   "outputs": [],
   "source": [
    "X, y = fetch_openml('monks-problems-1', return_X_y=True)\n",
    "y = y.astype(np.float32)\n",
    "\n",
    "X_train = OneHotEncoder(sparse=False).fit_transform(X[:124,:])\n",
    "X_test = OneHotEncoder(sparse=False).fit_transform(X[124:,:])\n",
    "y_train, y_test = y[:124], y[124:]"
   ]
  },
  {
   "cell_type": "code",
   "execution_count": 13,
   "metadata": {
    "hidePrompt": true
   },
   "outputs": [
    {
     "name": "stdout",
     "output_type": "stream",
     "text": [
      "accuracy: 1.0\n"
     ]
    }
   ],
   "source": [
    "svc = DualSVC(kernel=PolyKernel(degree=3, gamma='scale'), \n",
    "          optimizer=ProjectedGradient, verbose=False)\n",
    "svc.fit(X_train, y_train)\n",
    "print(f'accuracy: {accuracy_score(y_test, svc.predict(X_test))}')"
   ]
  },
  {
   "cell_type": "markdown",
   "metadata": {},
   "source": [
    "##### Monk #2"
   ]
  },
  {
   "cell_type": "code",
   "execution_count": null,
   "metadata": {
    "hideCode": true,
    "hidePrompt": true
   },
   "outputs": [],
   "source": [
    "X, y = fetch_openml('monks-problems-2', return_X_y=True)\n",
    "y = y.astype(np.float32)\n",
    "\n",
    "X_train = OneHotEncoder(sparse=False).fit_transform(X[:169,:])\n",
    "X_test = OneHotEncoder(sparse=False).fit_transform(X[169:,:])\n",
    "y_train, y_test = y[:169], y[169:]"
   ]
  },
  {
   "cell_type": "code",
   "execution_count": 18,
   "metadata": {
    "hidePrompt": true
   },
   "outputs": [
    {
     "name": "stdout",
     "output_type": "stream",
     "text": [
      "accuracy: 1.0\n"
     ]
    }
   ],
   "source": [
    "svc = DualSVC(kernel=PolyKernel(degree=2, gamma='scale'), C=1000, \n",
    "              optimizer=InteriorPoint, verbose=False)\n",
    "svc.fit(X_train, y_train)\n",
    "print(f'accuracy: {accuracy_score(y_test, svc.predict(X_test))}')"
   ]
  },
  {
   "cell_type": "markdown",
   "metadata": {},
   "source": [
    "##### Monk #3"
   ]
  },
  {
   "cell_type": "code",
   "execution_count": 19,
   "metadata": {
    "hideCode": true,
    "hidePrompt": true
   },
   "outputs": [],
   "source": [
    "X, y = fetch_openml('monks-problems-3', return_X_y=True)\n",
    "y = y.astype(np.float32)\n",
    "\n",
    "X_train = OneHotEncoder(sparse=False).fit_transform(X[:122,:])\n",
    "X_test = OneHotEncoder(sparse=False).fit_transform(X[122:,:])\n",
    "y_train, y_test = y[:122], y[122:]"
   ]
  },
  {
   "cell_type": "code",
   "execution_count": 20,
   "metadata": {
    "hidePrompt": true
   },
   "outputs": [
    {
     "name": "stdout",
     "output_type": "stream",
     "text": [
      "accuracy: 0.9722222222222222\n"
     ]
    }
   ],
   "source": [
    "svc = DualSVC(kernel=PolyKernel(degree=4, gamma='auto'), C=100, \n",
    "              optimizer=ActiveSet, verbose=False)\n",
    "svc.fit(X_train, y_train)\n",
    "print(f'accuracy: {accuracy_score(y_test, svc.predict(X_test))}')"
   ]
  },
  {
   "cell_type": "markdown",
   "metadata": {},
   "source": [
    "#### Neural Network Classifier"
   ]
  },
  {
   "cell_type": "markdown",
   "metadata": {},
   "source": [
    "In case of *Neural Network Classifier* we are going to use different optimizers, both *stochastic* and *line search* methods, with different loss functions."
   ]
  },
  {
   "cell_type": "code",
   "execution_count": 22,
   "metadata": {
    "hideCode": true,
    "hidePrompt": true
   },
   "outputs": [],
   "source": [
    "import numpy as np\n",
    "\n",
    "from optiml.ml.neural_network import NeuralNetworkClassifier\n",
    "from optiml.ml.neural_network.layers import FullyConnected\n",
    "from optiml.ml.neural_network.activations import *\n",
    "from optiml.ml.neural_network.losses import *\n",
    "from optiml.ml.neural_network.regularizers import L2\n",
    "from optiml.ml.utils import plot_model_loss, plot_model_accuracy\n",
    "\n",
    "from optiml.opti.unconstrained.line_search import *\n",
    "from optiml.opti.unconstrained.stochastic import *\n",
    "\n",
    "from sklearn.datasets import fetch_openml\n",
    "from sklearn.preprocessing import OneHotEncoder\n",
    "from sklearn.metrics import accuracy_score"
   ]
  },
  {
   "cell_type": "markdown",
   "metadata": {},
   "source": [
    "##### Monk #1"
   ]
  },
  {
   "cell_type": "code",
   "execution_count": 23,
   "metadata": {
    "hideCode": true,
    "hidePrompt": true
   },
   "outputs": [],
   "source": [
    "X, y = fetch_openml('monks-problems-1', return_X_y=True)\n",
    "y = y.astype(np.float32)\n",
    "\n",
    "X_train = OneHotEncoder(sparse=False).fit_transform(X[:124,:])\n",
    "X_test = OneHotEncoder(sparse=False).fit_transform(X[124:,:])\n",
    "y_train, y_test = y[:124], y[124:]"
   ]
  },
  {
   "cell_type": "code",
   "execution_count": 24,
   "metadata": {
    "hidePrompt": true
   },
   "outputs": [
    {
     "data": {
      "image/png": "[encoded data removed]",
      "text/plain": [
       "<Figure size 432x288 with 1 Axes>"
      ]
     },
     "metadata": {},
     "output_type": "display_data"
    },
    {
     "data": {
      "image/png": "[encoded data removed]",
      "text/plain": [
       "<Figure size 432x288 with 1 Axes>"
      ]
     },
     "metadata": {},
     "output_type": "display_data"
    },
    {
     "name": "stdout",
     "output_type": "stream",
     "text": [
      "accuracy: 1.0\n"
     ]
    }
   ],
   "source": [
    "net = NeuralNetworkClassifier((FullyConnected(17, 5, sigmoid),\n",
    "                               FullyConnected(5, 1, sigmoid)),\n",
    "                              loss=mean_squared_error, optimizer=Adam, \n",
    "                              learning_rate_init=0.01, early_stopping=False, \n",
    "                              validation_split=0.2, max_iter=1000, verbose=False)\n",
    "net.fit(X_train, y_train)\n",
    "plot_model_loss(net.train_loss_history, net.val_loss_history)\n",
    "plot_model_accuracy(net.train_score_history, net.val_score_history)\n",
    "print(f'accuracy: {accuracy_score(y_test, net.predict(X_test))}')"
   ]
  },
  {
   "cell_type": "markdown",
   "metadata": {},
   "source": [
    "##### Monk #2"
   ]
  },
  {
   "cell_type": "code",
   "execution_count": null,
   "metadata": {
    "hideCode": true,
    "hidePrompt": true
   },
   "outputs": [],
   "source": [
    "X, y = fetch_openml('monks-problems-2', return_X_y=True)\n",
    "y = y.astype(np.float32)\n",
    "\n",
    "X_train = OneHotEncoder(sparse=False).fit_transform(X[:169,:])\n",
    "X_test = OneHotEncoder(sparse=False).fit_transform(X[169:,:])\n",
    "y_train, y_test = y[:169], y[169:]"
   ]
  },
  {
   "cell_type": "code",
   "execution_count": 27,
   "metadata": {
    "hidePrompt": true
   },
   "outputs": [
    {
     "data": {
      "image/png": "[encoded data removed]",
      "text/plain": [
       "<Figure size 432x288 with 1 Axes>"
      ]
     },
     "metadata": {},
     "output_type": "display_data"
    },
    {
     "data": {
      "image/png": "[encoded data removed]",
      "text/plain": [
       "<Figure size 432x288 with 1 Axes>"
      ]
     },
     "metadata": {},
     "output_type": "display_data"
    },
    {
     "name": "stdout",
     "output_type": "stream",
     "text": [
      "accuracy: 1.0\n"
     ]
    }
   ],
   "source": [
    "net = NeuralNetworkClassifier((FullyConnected(17, 5, sigmoid),\n",
    "                               FullyConnected(5, 2, softmax)),\n",
    "                              loss=sparse_categorical_cross_entropy, \n",
    "                              optimizer=StochasticGradientDescent, \n",
    "                              learning_rate_init=0.1, early_stopping=False, \n",
    "                              momentum_type='nesterov', momentum=0.9, \n",
    "                              validation_split=0.2,max_iter=1000, verbose=False)\n",
    "net.fit(X_train, y_train)\n",
    "plot_model_loss(net.train_loss_history, net.val_loss_history)\n",
    "plot_model_accuracy(net.train_score_history, net.val_score_history)\n",
    "print(f'accuracy: {accuracy_score(y_test, net.predict(X_test))}')"
   ]
  },
  {
   "cell_type": "markdown",
   "metadata": {},
   "source": [
    "##### Monk #3"
   ]
  },
  {
   "cell_type": "code",
   "execution_count": null,
   "metadata": {
    "hideCode": true,
    "hideOutput": false,
    "hidePrompt": true
   },
   "outputs": [],
   "source": [
    "X, y = fetch_openml('monks-problems-3', return_X_y=True)\n",
    "y = y.astype(np.float32)\n",
    "\n",
    "X_train = OneHotEncoder(sparse=False).fit_transform(X[:122,:])\n",
    "X_test = OneHotEncoder(sparse=False).fit_transform(X[122:,:])\n",
    "y_train, y_test = y[:122], y[122:]"
   ]
  },
  {
   "cell_type": "code",
   "execution_count": 28,
   "metadata": {
    "hidePrompt": true
   },
   "outputs": [
    {
     "name": "stdout",
     "output_type": "stream",
     "text": [
      "accuracy: 0.9861111111111112\n"
     ]
    }
   ],
   "source": [
    "net = NeuralNetworkClassifier((FullyConnected(17, 10, sigmoid, \n",
    "                                              coef_reg=L2(0.1), \n",
    "                                              inter_reg=L2(0.1)),\n",
    "                               FullyConnected(10, 1, sigmoid, \n",
    "                                              coef_reg=L2(0.1), \n",
    "                                              inter_reg=L2(0.1))),\n",
    "                              loss=mean_squared_error, optimizer=BFGS, \n",
    "                              max_iter=500, verbose=False)\n",
    "net.fit(X_train, y_train)\n",
    "print(f'accuracy: {accuracy_score(y_test, net.predict(X_test))}')"
   ]
  },
  {
   "cell_type": "markdown",
   "metadata": {},
   "source": [
    "### ML-CUP19"
   ]
  },
  {
   "cell_type": "markdown",
   "metadata": {},
   "source": [
    "In this second section of the report we are going to show how to perform the grid search over ML-CUP19 to find the hyperparameters which best generalize the model on the unseen data."
   ]
  },
  {
   "cell_type": "code",
   "execution_count": 4,
   "metadata": {
    "hideCode": true,
    "hidePrompt": true
   },
   "outputs": [],
   "source": [
    "import numpy as np\n",
    "\n",
    "def load_ml_cup():\n",
    "    ml_cup = np.delete(np.genfromtxt(module_path + '/optiml/ml/data/ML-CUP19/ML-CUP19-TR.csv', \n",
    "                                     delimiter=','), obj=0, axis=1)\n",
    "    return ml_cup[:, :-2], ml_cup[:, -2:]\n",
    "\n",
    "def load_ml_cup_blind():\n",
    "    return np.delete(np.genfromtxt(module_path + '/optiml/ml/data/ML-CUP19/ML-CUP19-TS.csv',\n",
    "                                   delimiter=','), obj=0, axis=1)\n",
    "\n",
    "def mean_euclidean_error(y_true, y_pred):\n",
    "    assert y_true.shape == y_pred.shape\n",
    "    return np.mean(np.linalg.norm(y_pred - y_true, axis=1))"
   ]
  },
  {
   "cell_type": "markdown",
   "metadata": {},
   "source": [
    "The hyperparameters which needs to be tuned are the kernel, the $\\epsilon$-insensitive value, the regularization term $C$ and $\\gamma$ which define how far the influence of a single training example reaches.\n",
    "\n",
    "Defining the range of values that are typically chosen to perform an exhaustive grid search:"
   ]
  },
  {
   "cell_type": "code",
   "execution_count": 151,
   "metadata": {
    "hidePrompt": true
   },
   "outputs": [],
   "source": [
    "epsilon_range = [0.001, 0.01, 0.1, 0.2, 0.3, 0.4, 0.5]\n",
    "gamma_range = [0.0001, 0.001, 0.01, 0.1, 1, 'auto', 'scale']\n",
    "C_range = [0.1, 1, 10, 100, 1000]"
   ]
  },
  {
   "cell_type": "markdown",
   "metadata": {},
   "source": [
    "The dataset is divided into *development set* and *evaluation set* (TS) which corresponds to the 80% and 20% respectively.\n",
    "\n",
    "Then, I performed a 5 fold cross validation which further divides the development set into *training* (TR) and *validation* (VL) set."
   ]
  },
  {
   "cell_type": "code",
   "execution_count": 5,
   "metadata": {
    "hideCode": true,
    "hideOutput": true,
    "hidePrompt": true
   },
   "outputs": [
    {
     "name": "stdout",
     "output_type": "stream",
     "text": [
      "Fitting 5 folds for each of 280 candidates, totalling 1400 fits\n"
     ]
    },
    {
     "name": "stderr",
     "output_type": "stream",
     "text": [
      "[Parallel(n_jobs=-1)]: Using backend LokyBackend with 8 concurrent workers.\n",
      "[Parallel(n_jobs=-1)]: Done  34 tasks      | elapsed:    3.1s\n",
      "[Parallel(n_jobs=-1)]: Done 184 tasks      | elapsed:   10.4s\n",
      "[Parallel(n_jobs=-1)]: Done 434 tasks      | elapsed:   22.3s\n",
      "[Parallel(n_jobs=-1)]: Done 784 tasks      | elapsed:   48.3s\n",
      "[Parallel(n_jobs=-1)]: Done 1234 tasks      | elapsed:  5.1min\n",
      "[Parallel(n_jobs=-1)]: Done 1400 out of 1400 | elapsed:  5.4min finished\n"
     ]
    }
   ],
   "source": [
    "from optiml.ml.svm import DualSVR\n",
    "from optiml.ml.svm.kernels import gaussian, laplacian\n",
    "\n",
    "from sklearn.metrics import make_scorer\n",
    "from sklearn.model_selection import train_test_split, GridSearchCV\n",
    "from sklearn.multioutput import MultiOutputRegressor\n",
    "\n",
    "X, y = load_ml_cup()\n",
    "\n",
    "X_train, X_test, y_train, y_test = train_test_split(X, y, test_size=0.2)\n",
    "\n",
    "tuned_parameters = [{'estimator__kernel': [gaussian],\n",
    "                     'estimator__epsilon': epsilon_range,\n",
    "                     'estimator__kernel_gamma': gamma_range,\n",
    "                     'estimator__C': C_range},\n",
    "                    {'estimator__kernel': [laplacian],\n",
    "                     'estimator__epsilon': epsilon_range,\n",
    "                     'estimator__kernel_gamma': ['auto'],\n",
    "                     'estimator__C': C_range}]\n",
    "\n",
    "neg_mean_euclidean_error = make_scorer(mean_euclidean_error, greater_is_better=False)\n",
    "\n",
    "grid = GridSearchCV(MultiOutputRegressor(DualSVR()),\n",
    "                    param_grid=tuned_parameters,\n",
    "                    scoring=neg_mean_euclidean_error,\n",
    "                    cv=5,  # 5 fold cross validation\n",
    "                    n_jobs=-1,  # use all processors\n",
    "                    refit=True,  # refit the best model on the full dataset\n",
    "                    return_train_score=True,\n",
    "                    verbose=True).fit(X_train, y_train)"
   ]
  },
  {
   "cell_type": "markdown",
   "metadata": {},
   "source": [
    "The best parameters set found on development set with train and validation scores are:"
   ]
  },
  {
   "cell_type": "code",
   "execution_count": 6,
   "metadata": {
    "hideCode": true,
    "hidePrompt": true
   },
   "outputs": [
    {
     "data": {
      "text/html": [
       "<style  type=\"text/css\" >\n",
       "    #T_015e842a_ad7b_11ea_9647_95ebb8726e2frow0_col0 {\n",
       "            background-color:  lightyellow;\n",
       "        }    #T_015e842a_ad7b_11ea_9647_95ebb8726e2frow0_col1 {\n",
       "            background-color:  lightyellow;\n",
       "        }    #T_015e842a_ad7b_11ea_9647_95ebb8726e2frow0_col2 {\n",
       "            background-color:  lightyellow;\n",
       "        }    #T_015e842a_ad7b_11ea_9647_95ebb8726e2frow0_col3 {\n",
       "            background-color:  lightyellow;\n",
       "        }    #T_015e842a_ad7b_11ea_9647_95ebb8726e2frow0_col4 {\n",
       "            background-color:  lightyellow;\n",
       "        }    #T_015e842a_ad7b_11ea_9647_95ebb8726e2frow0_col5 {\n",
       "            background-color:  lightyellow;\n",
       "        }    #T_015e842a_ad7b_11ea_9647_95ebb8726e2frow0_col6 {\n",
       "            background-color:  lightyellow;\n",
       "        }</style><table id=\"T_015e842a_ad7b_11ea_9647_95ebb8726e2f\" ><thead>    <tr>        <th class=\"col_heading level0 col0\" >kernel</th>        <th class=\"col_heading level0 col1\" >epsilon</th>        <th class=\"col_heading level0 col2\" >C</th>        <th class=\"col_heading level0 col3\" >gamma</th>        <th class=\"col_heading level0 col4\" >mean_train_score</th>        <th class=\"col_heading level0 col5\" >mean_val_score</th>        <th class=\"col_heading level0 col6\" >rank_val_score</th>    </tr></thead><tbody>\n",
       "                <tr>\n",
       "                                <td id=\"T_015e842a_ad7b_11ea_9647_95ebb8726e2frow0_col0\" class=\"data row0 col0\" >laplacian</td>\n",
       "                        <td id=\"T_015e842a_ad7b_11ea_9647_95ebb8726e2frow0_col1\" class=\"data row0 col1\" >0.010000</td>\n",
       "                        <td id=\"T_015e842a_ad7b_11ea_9647_95ebb8726e2frow0_col2\" class=\"data row0 col2\" >100</td>\n",
       "                        <td id=\"T_015e842a_ad7b_11ea_9647_95ebb8726e2frow0_col3\" class=\"data row0 col3\" >auto</td>\n",
       "                        <td id=\"T_015e842a_ad7b_11ea_9647_95ebb8726e2frow0_col4\" class=\"data row0 col4\" >0.016487</td>\n",
       "                        <td id=\"T_015e842a_ad7b_11ea_9647_95ebb8726e2frow0_col5\" class=\"data row0 col5\" >0.830624</td>\n",
       "                        <td id=\"T_015e842a_ad7b_11ea_9647_95ebb8726e2frow0_col6\" class=\"data row0 col6\" >1</td>\n",
       "            </tr>\n",
       "            <tr>\n",
       "                                <td id=\"T_015e842a_ad7b_11ea_9647_95ebb8726e2frow1_col0\" class=\"data row1 col0\" >laplacian</td>\n",
       "                        <td id=\"T_015e842a_ad7b_11ea_9647_95ebb8726e2frow1_col1\" class=\"data row1 col1\" >0.001000</td>\n",
       "                        <td id=\"T_015e842a_ad7b_11ea_9647_95ebb8726e2frow1_col2\" class=\"data row1 col2\" >100</td>\n",
       "                        <td id=\"T_015e842a_ad7b_11ea_9647_95ebb8726e2frow1_col3\" class=\"data row1 col3\" >auto</td>\n",
       "                        <td id=\"T_015e842a_ad7b_11ea_9647_95ebb8726e2frow1_col4\" class=\"data row1 col4\" >0.006101</td>\n",
       "                        <td id=\"T_015e842a_ad7b_11ea_9647_95ebb8726e2frow1_col5\" class=\"data row1 col5\" >0.830804</td>\n",
       "                        <td id=\"T_015e842a_ad7b_11ea_9647_95ebb8726e2frow1_col6\" class=\"data row1 col6\" >2</td>\n",
       "            </tr>\n",
       "            <tr>\n",
       "                                <td id=\"T_015e842a_ad7b_11ea_9647_95ebb8726e2frow2_col0\" class=\"data row2 col0\" >laplacian</td>\n",
       "                        <td id=\"T_015e842a_ad7b_11ea_9647_95ebb8726e2frow2_col1\" class=\"data row2 col1\" >0.010000</td>\n",
       "                        <td id=\"T_015e842a_ad7b_11ea_9647_95ebb8726e2frow2_col2\" class=\"data row2 col2\" >1000</td>\n",
       "                        <td id=\"T_015e842a_ad7b_11ea_9647_95ebb8726e2frow2_col3\" class=\"data row2 col3\" >auto</td>\n",
       "                        <td id=\"T_015e842a_ad7b_11ea_9647_95ebb8726e2frow2_col4\" class=\"data row2 col4\" >0.015406</td>\n",
       "                        <td id=\"T_015e842a_ad7b_11ea_9647_95ebb8726e2frow2_col5\" class=\"data row2 col5\" >0.831590</td>\n",
       "                        <td id=\"T_015e842a_ad7b_11ea_9647_95ebb8726e2frow2_col6\" class=\"data row2 col6\" >3</td>\n",
       "            </tr>\n",
       "            <tr>\n",
       "                                <td id=\"T_015e842a_ad7b_11ea_9647_95ebb8726e2frow3_col0\" class=\"data row3 col0\" >laplacian</td>\n",
       "                        <td id=\"T_015e842a_ad7b_11ea_9647_95ebb8726e2frow3_col1\" class=\"data row3 col1\" >0.001000</td>\n",
       "                        <td id=\"T_015e842a_ad7b_11ea_9647_95ebb8726e2frow3_col2\" class=\"data row3 col2\" >1000</td>\n",
       "                        <td id=\"T_015e842a_ad7b_11ea_9647_95ebb8726e2frow3_col3\" class=\"data row3 col3\" >auto</td>\n",
       "                        <td id=\"T_015e842a_ad7b_11ea_9647_95ebb8726e2frow3_col4\" class=\"data row3 col4\" >0.003801</td>\n",
       "                        <td id=\"T_015e842a_ad7b_11ea_9647_95ebb8726e2frow3_col5\" class=\"data row3 col5\" >0.831852</td>\n",
       "                        <td id=\"T_015e842a_ad7b_11ea_9647_95ebb8726e2frow3_col6\" class=\"data row3 col6\" >4</td>\n",
       "            </tr>\n",
       "            <tr>\n",
       "                                <td id=\"T_015e842a_ad7b_11ea_9647_95ebb8726e2frow4_col0\" class=\"data row4 col0\" >laplacian</td>\n",
       "                        <td id=\"T_015e842a_ad7b_11ea_9647_95ebb8726e2frow4_col1\" class=\"data row4 col1\" >0.100000</td>\n",
       "                        <td id=\"T_015e842a_ad7b_11ea_9647_95ebb8726e2frow4_col2\" class=\"data row4 col2\" >100</td>\n",
       "                        <td id=\"T_015e842a_ad7b_11ea_9647_95ebb8726e2frow4_col3\" class=\"data row4 col3\" >auto</td>\n",
       "                        <td id=\"T_015e842a_ad7b_11ea_9647_95ebb8726e2frow4_col4\" class=\"data row4 col4\" >0.133331</td>\n",
       "                        <td id=\"T_015e842a_ad7b_11ea_9647_95ebb8726e2frow4_col5\" class=\"data row4 col5\" >0.846899</td>\n",
       "                        <td id=\"T_015e842a_ad7b_11ea_9647_95ebb8726e2frow4_col6\" class=\"data row4 col6\" >5</td>\n",
       "            </tr>\n",
       "            <tr>\n",
       "                                <td id=\"T_015e842a_ad7b_11ea_9647_95ebb8726e2frow5_col0\" class=\"data row5 col0\" >laplacian</td>\n",
       "                        <td id=\"T_015e842a_ad7b_11ea_9647_95ebb8726e2frow5_col1\" class=\"data row5 col1\" >0.100000</td>\n",
       "                        <td id=\"T_015e842a_ad7b_11ea_9647_95ebb8726e2frow5_col2\" class=\"data row5 col2\" >1000</td>\n",
       "                        <td id=\"T_015e842a_ad7b_11ea_9647_95ebb8726e2frow5_col3\" class=\"data row5 col3\" >auto</td>\n",
       "                        <td id=\"T_015e842a_ad7b_11ea_9647_95ebb8726e2frow5_col4\" class=\"data row5 col4\" >0.133036</td>\n",
       "                        <td id=\"T_015e842a_ad7b_11ea_9647_95ebb8726e2frow5_col5\" class=\"data row5 col5\" >0.847315</td>\n",
       "                        <td id=\"T_015e842a_ad7b_11ea_9647_95ebb8726e2frow5_col6\" class=\"data row5 col6\" >6</td>\n",
       "            </tr>\n",
       "            <tr>\n",
       "                                <td id=\"T_015e842a_ad7b_11ea_9647_95ebb8726e2frow6_col0\" class=\"data row6 col0\" >laplacian</td>\n",
       "                        <td id=\"T_015e842a_ad7b_11ea_9647_95ebb8726e2frow6_col1\" class=\"data row6 col1\" >0.200000</td>\n",
       "                        <td id=\"T_015e842a_ad7b_11ea_9647_95ebb8726e2frow6_col2\" class=\"data row6 col2\" >100</td>\n",
       "                        <td id=\"T_015e842a_ad7b_11ea_9647_95ebb8726e2frow6_col3\" class=\"data row6 col3\" >auto</td>\n",
       "                        <td id=\"T_015e842a_ad7b_11ea_9647_95ebb8726e2frow6_col4\" class=\"data row6 col4\" >0.256408</td>\n",
       "                        <td id=\"T_015e842a_ad7b_11ea_9647_95ebb8726e2frow6_col5\" class=\"data row6 col5\" >0.871690</td>\n",
       "                        <td id=\"T_015e842a_ad7b_11ea_9647_95ebb8726e2frow6_col6\" class=\"data row6 col6\" >7</td>\n",
       "            </tr>\n",
       "            <tr>\n",
       "                                <td id=\"T_015e842a_ad7b_11ea_9647_95ebb8726e2frow7_col0\" class=\"data row7 col0\" >laplacian</td>\n",
       "                        <td id=\"T_015e842a_ad7b_11ea_9647_95ebb8726e2frow7_col1\" class=\"data row7 col1\" >0.200000</td>\n",
       "                        <td id=\"T_015e842a_ad7b_11ea_9647_95ebb8726e2frow7_col2\" class=\"data row7 col2\" >1000</td>\n",
       "                        <td id=\"T_015e842a_ad7b_11ea_9647_95ebb8726e2frow7_col3\" class=\"data row7 col3\" >auto</td>\n",
       "                        <td id=\"T_015e842a_ad7b_11ea_9647_95ebb8726e2frow7_col4\" class=\"data row7 col4\" >0.256306</td>\n",
       "                        <td id=\"T_015e842a_ad7b_11ea_9647_95ebb8726e2frow7_col5\" class=\"data row7 col5\" >0.871834</td>\n",
       "                        <td id=\"T_015e842a_ad7b_11ea_9647_95ebb8726e2frow7_col6\" class=\"data row7 col6\" >8</td>\n",
       "            </tr>\n",
       "            <tr>\n",
       "                                <td id=\"T_015e842a_ad7b_11ea_9647_95ebb8726e2frow8_col0\" class=\"data row8 col0\" >laplacian</td>\n",
       "                        <td id=\"T_015e842a_ad7b_11ea_9647_95ebb8726e2frow8_col1\" class=\"data row8 col1\" >0.010000</td>\n",
       "                        <td id=\"T_015e842a_ad7b_11ea_9647_95ebb8726e2frow8_col2\" class=\"data row8 col2\" >10</td>\n",
       "                        <td id=\"T_015e842a_ad7b_11ea_9647_95ebb8726e2frow8_col3\" class=\"data row8 col3\" >auto</td>\n",
       "                        <td id=\"T_015e842a_ad7b_11ea_9647_95ebb8726e2frow8_col4\" class=\"data row8 col4\" >0.254901</td>\n",
       "                        <td id=\"T_015e842a_ad7b_11ea_9647_95ebb8726e2frow8_col5\" class=\"data row8 col5\" >0.883101</td>\n",
       "                        <td id=\"T_015e842a_ad7b_11ea_9647_95ebb8726e2frow8_col6\" class=\"data row8 col6\" >9</td>\n",
       "            </tr>\n",
       "            <tr>\n",
       "                                <td id=\"T_015e842a_ad7b_11ea_9647_95ebb8726e2frow9_col0\" class=\"data row9 col0\" >laplacian</td>\n",
       "                        <td id=\"T_015e842a_ad7b_11ea_9647_95ebb8726e2frow9_col1\" class=\"data row9 col1\" >0.001000</td>\n",
       "                        <td id=\"T_015e842a_ad7b_11ea_9647_95ebb8726e2frow9_col2\" class=\"data row9 col2\" >10</td>\n",
       "                        <td id=\"T_015e842a_ad7b_11ea_9647_95ebb8726e2frow9_col3\" class=\"data row9 col3\" >auto</td>\n",
       "                        <td id=\"T_015e842a_ad7b_11ea_9647_95ebb8726e2frow9_col4\" class=\"data row9 col4\" >0.248616</td>\n",
       "                        <td id=\"T_015e842a_ad7b_11ea_9647_95ebb8726e2frow9_col5\" class=\"data row9 col5\" >0.883369</td>\n",
       "                        <td id=\"T_015e842a_ad7b_11ea_9647_95ebb8726e2frow9_col6\" class=\"data row9 col6\" >10</td>\n",
       "            </tr>\n",
       "            <tr>\n",
       "                                <td id=\"T_015e842a_ad7b_11ea_9647_95ebb8726e2frow10_col0\" class=\"data row10 col0\" >laplacian</td>\n",
       "                        <td id=\"T_015e842a_ad7b_11ea_9647_95ebb8726e2frow10_col1\" class=\"data row10 col1\" >0.100000</td>\n",
       "                        <td id=\"T_015e842a_ad7b_11ea_9647_95ebb8726e2frow10_col2\" class=\"data row10 col2\" >10</td>\n",
       "                        <td id=\"T_015e842a_ad7b_11ea_9647_95ebb8726e2frow10_col3\" class=\"data row10 col3\" >auto</td>\n",
       "                        <td id=\"T_015e842a_ad7b_11ea_9647_95ebb8726e2frow10_col4\" class=\"data row10 col4\" >0.332499</td>\n",
       "                        <td id=\"T_015e842a_ad7b_11ea_9647_95ebb8726e2frow10_col5\" class=\"data row10 col5\" >0.891287</td>\n",
       "                        <td id=\"T_015e842a_ad7b_11ea_9647_95ebb8726e2frow10_col6\" class=\"data row10 col6\" >11</td>\n",
       "            </tr>\n",
       "            <tr>\n",
       "                                <td id=\"T_015e842a_ad7b_11ea_9647_95ebb8726e2frow11_col0\" class=\"data row11 col0\" >laplacian</td>\n",
       "                        <td id=\"T_015e842a_ad7b_11ea_9647_95ebb8726e2frow11_col1\" class=\"data row11 col1\" >0.300000</td>\n",
       "                        <td id=\"T_015e842a_ad7b_11ea_9647_95ebb8726e2frow11_col2\" class=\"data row11 col2\" >100</td>\n",
       "                        <td id=\"T_015e842a_ad7b_11ea_9647_95ebb8726e2frow11_col3\" class=\"data row11 col3\" >auto</td>\n",
       "                        <td id=\"T_015e842a_ad7b_11ea_9647_95ebb8726e2frow11_col4\" class=\"data row11 col4\" >0.368702</td>\n",
       "                        <td id=\"T_015e842a_ad7b_11ea_9647_95ebb8726e2frow11_col5\" class=\"data row11 col5\" >0.900266</td>\n",
       "                        <td id=\"T_015e842a_ad7b_11ea_9647_95ebb8726e2frow11_col6\" class=\"data row11 col6\" >12</td>\n",
       "            </tr>\n",
       "            <tr>\n",
       "                                <td id=\"T_015e842a_ad7b_11ea_9647_95ebb8726e2frow12_col0\" class=\"data row12 col0\" >laplacian</td>\n",
       "                        <td id=\"T_015e842a_ad7b_11ea_9647_95ebb8726e2frow12_col1\" class=\"data row12 col1\" >0.300000</td>\n",
       "                        <td id=\"T_015e842a_ad7b_11ea_9647_95ebb8726e2frow12_col2\" class=\"data row12 col2\" >1000</td>\n",
       "                        <td id=\"T_015e842a_ad7b_11ea_9647_95ebb8726e2frow12_col3\" class=\"data row12 col3\" >auto</td>\n",
       "                        <td id=\"T_015e842a_ad7b_11ea_9647_95ebb8726e2frow12_col4\" class=\"data row12 col4\" >0.368688</td>\n",
       "                        <td id=\"T_015e842a_ad7b_11ea_9647_95ebb8726e2frow12_col5\" class=\"data row12 col5\" >0.900279</td>\n",
       "                        <td id=\"T_015e842a_ad7b_11ea_9647_95ebb8726e2frow12_col6\" class=\"data row12 col6\" >13</td>\n",
       "            </tr>\n",
       "            <tr>\n",
       "                                <td id=\"T_015e842a_ad7b_11ea_9647_95ebb8726e2frow13_col0\" class=\"data row13 col0\" >laplacian</td>\n",
       "                        <td id=\"T_015e842a_ad7b_11ea_9647_95ebb8726e2frow13_col1\" class=\"data row13 col1\" >0.200000</td>\n",
       "                        <td id=\"T_015e842a_ad7b_11ea_9647_95ebb8726e2frow13_col2\" class=\"data row13 col2\" >10</td>\n",
       "                        <td id=\"T_015e842a_ad7b_11ea_9647_95ebb8726e2frow13_col3\" class=\"data row13 col3\" >auto</td>\n",
       "                        <td id=\"T_015e842a_ad7b_11ea_9647_95ebb8726e2frow13_col4\" class=\"data row13 col4\" >0.417705</td>\n",
       "                        <td id=\"T_015e842a_ad7b_11ea_9647_95ebb8726e2frow13_col5\" class=\"data row13 col5\" >0.905002</td>\n",
       "                        <td id=\"T_015e842a_ad7b_11ea_9647_95ebb8726e2frow13_col6\" class=\"data row13 col6\" >14</td>\n",
       "            </tr>\n",
       "            <tr>\n",
       "                                <td id=\"T_015e842a_ad7b_11ea_9647_95ebb8726e2frow14_col0\" class=\"data row14 col0\" >laplacian</td>\n",
       "                        <td id=\"T_015e842a_ad7b_11ea_9647_95ebb8726e2frow14_col1\" class=\"data row14 col1\" >0.300000</td>\n",
       "                        <td id=\"T_015e842a_ad7b_11ea_9647_95ebb8726e2frow14_col2\" class=\"data row14 col2\" >10</td>\n",
       "                        <td id=\"T_015e842a_ad7b_11ea_9647_95ebb8726e2frow14_col3\" class=\"data row14 col3\" >auto</td>\n",
       "                        <td id=\"T_015e842a_ad7b_11ea_9647_95ebb8726e2frow14_col4\" class=\"data row14 col4\" >0.498985</td>\n",
       "                        <td id=\"T_015e842a_ad7b_11ea_9647_95ebb8726e2frow14_col5\" class=\"data row14 col5\" >0.926134</td>\n",
       "                        <td id=\"T_015e842a_ad7b_11ea_9647_95ebb8726e2frow14_col6\" class=\"data row14 col6\" >15</td>\n",
       "            </tr>\n",
       "            <tr>\n",
       "                                <td id=\"T_015e842a_ad7b_11ea_9647_95ebb8726e2frow15_col0\" class=\"data row15 col0\" >laplacian</td>\n",
       "                        <td id=\"T_015e842a_ad7b_11ea_9647_95ebb8726e2frow15_col1\" class=\"data row15 col1\" >0.400000</td>\n",
       "                        <td id=\"T_015e842a_ad7b_11ea_9647_95ebb8726e2frow15_col2\" class=\"data row15 col2\" >1000</td>\n",
       "                        <td id=\"T_015e842a_ad7b_11ea_9647_95ebb8726e2frow15_col3\" class=\"data row15 col3\" >auto</td>\n",
       "                        <td id=\"T_015e842a_ad7b_11ea_9647_95ebb8726e2frow15_col4\" class=\"data row15 col4\" >0.471386</td>\n",
       "                        <td id=\"T_015e842a_ad7b_11ea_9647_95ebb8726e2frow15_col5\" class=\"data row15 col5\" >0.929004</td>\n",
       "                        <td id=\"T_015e842a_ad7b_11ea_9647_95ebb8726e2frow15_col6\" class=\"data row15 col6\" >16</td>\n",
       "            </tr>\n",
       "            <tr>\n",
       "                                <td id=\"T_015e842a_ad7b_11ea_9647_95ebb8726e2frow16_col0\" class=\"data row16 col0\" >laplacian</td>\n",
       "                        <td id=\"T_015e842a_ad7b_11ea_9647_95ebb8726e2frow16_col1\" class=\"data row16 col1\" >0.400000</td>\n",
       "                        <td id=\"T_015e842a_ad7b_11ea_9647_95ebb8726e2frow16_col2\" class=\"data row16 col2\" >100</td>\n",
       "                        <td id=\"T_015e842a_ad7b_11ea_9647_95ebb8726e2frow16_col3\" class=\"data row16 col3\" >auto</td>\n",
       "                        <td id=\"T_015e842a_ad7b_11ea_9647_95ebb8726e2frow16_col4\" class=\"data row16 col4\" >0.471386</td>\n",
       "                        <td id=\"T_015e842a_ad7b_11ea_9647_95ebb8726e2frow16_col5\" class=\"data row16 col5\" >0.929004</td>\n",
       "                        <td id=\"T_015e842a_ad7b_11ea_9647_95ebb8726e2frow16_col6\" class=\"data row16 col6\" >16</td>\n",
       "            </tr>\n",
       "            <tr>\n",
       "                                <td id=\"T_015e842a_ad7b_11ea_9647_95ebb8726e2frow17_col0\" class=\"data row17 col0\" >laplacian</td>\n",
       "                        <td id=\"T_015e842a_ad7b_11ea_9647_95ebb8726e2frow17_col1\" class=\"data row17 col1\" >0.400000</td>\n",
       "                        <td id=\"T_015e842a_ad7b_11ea_9647_95ebb8726e2frow17_col2\" class=\"data row17 col2\" >10</td>\n",
       "                        <td id=\"T_015e842a_ad7b_11ea_9647_95ebb8726e2frow17_col3\" class=\"data row17 col3\" >auto</td>\n",
       "                        <td id=\"T_015e842a_ad7b_11ea_9647_95ebb8726e2frow17_col4\" class=\"data row17 col4\" >0.576061</td>\n",
       "                        <td id=\"T_015e842a_ad7b_11ea_9647_95ebb8726e2frow17_col5\" class=\"data row17 col5\" >0.951724</td>\n",
       "                        <td id=\"T_015e842a_ad7b_11ea_9647_95ebb8726e2frow17_col6\" class=\"data row17 col6\" >18</td>\n",
       "            </tr>\n",
       "            <tr>\n",
       "                                <td id=\"T_015e842a_ad7b_11ea_9647_95ebb8726e2frow18_col0\" class=\"data row18 col0\" >laplacian</td>\n",
       "                        <td id=\"T_015e842a_ad7b_11ea_9647_95ebb8726e2frow18_col1\" class=\"data row18 col1\" >0.500000</td>\n",
       "                        <td id=\"T_015e842a_ad7b_11ea_9647_95ebb8726e2frow18_col2\" class=\"data row18 col2\" >100</td>\n",
       "                        <td id=\"T_015e842a_ad7b_11ea_9647_95ebb8726e2frow18_col3\" class=\"data row18 col3\" >auto</td>\n",
       "                        <td id=\"T_015e842a_ad7b_11ea_9647_95ebb8726e2frow18_col4\" class=\"data row18 col4\" >0.565193</td>\n",
       "                        <td id=\"T_015e842a_ad7b_11ea_9647_95ebb8726e2frow18_col5\" class=\"data row18 col5\" >0.958865</td>\n",
       "                        <td id=\"T_015e842a_ad7b_11ea_9647_95ebb8726e2frow18_col6\" class=\"data row18 col6\" >19</td>\n",
       "            </tr>\n",
       "            <tr>\n",
       "                                <td id=\"T_015e842a_ad7b_11ea_9647_95ebb8726e2frow19_col0\" class=\"data row19 col0\" >laplacian</td>\n",
       "                        <td id=\"T_015e842a_ad7b_11ea_9647_95ebb8726e2frow19_col1\" class=\"data row19 col1\" >0.500000</td>\n",
       "                        <td id=\"T_015e842a_ad7b_11ea_9647_95ebb8726e2frow19_col2\" class=\"data row19 col2\" >1000</td>\n",
       "                        <td id=\"T_015e842a_ad7b_11ea_9647_95ebb8726e2frow19_col3\" class=\"data row19 col3\" >auto</td>\n",
       "                        <td id=\"T_015e842a_ad7b_11ea_9647_95ebb8726e2frow19_col4\" class=\"data row19 col4\" >0.565193</td>\n",
       "                        <td id=\"T_015e842a_ad7b_11ea_9647_95ebb8726e2frow19_col5\" class=\"data row19 col5\" >0.958865</td>\n",
       "                        <td id=\"T_015e842a_ad7b_11ea_9647_95ebb8726e2frow19_col6\" class=\"data row19 col6\" >19</td>\n",
       "            </tr>\n",
       "            <tr>\n",
       "                                <td id=\"T_015e842a_ad7b_11ea_9647_95ebb8726e2frow20_col0\" class=\"data row20 col0\" >laplacian</td>\n",
       "                        <td id=\"T_015e842a_ad7b_11ea_9647_95ebb8726e2frow20_col1\" class=\"data row20 col1\" >0.500000</td>\n",
       "                        <td id=\"T_015e842a_ad7b_11ea_9647_95ebb8726e2frow20_col2\" class=\"data row20 col2\" >10</td>\n",
       "                        <td id=\"T_015e842a_ad7b_11ea_9647_95ebb8726e2frow20_col3\" class=\"data row20 col3\" >auto</td>\n",
       "                        <td id=\"T_015e842a_ad7b_11ea_9647_95ebb8726e2frow20_col4\" class=\"data row20 col4\" >0.648120</td>\n",
       "                        <td id=\"T_015e842a_ad7b_11ea_9647_95ebb8726e2frow20_col5\" class=\"data row20 col5\" >0.980397</td>\n",
       "                        <td id=\"T_015e842a_ad7b_11ea_9647_95ebb8726e2frow20_col6\" class=\"data row20 col6\" >21</td>\n",
       "            </tr>\n",
       "            <tr>\n",
       "                                <td id=\"T_015e842a_ad7b_11ea_9647_95ebb8726e2frow21_col0\" class=\"data row21 col0\" >gaussian</td>\n",
       "                        <td id=\"T_015e842a_ad7b_11ea_9647_95ebb8726e2frow21_col1\" class=\"data row21 col1\" >0.100000</td>\n",
       "                        <td id=\"T_015e842a_ad7b_11ea_9647_95ebb8726e2frow21_col2\" class=\"data row21 col2\" >10</td>\n",
       "                        <td id=\"T_015e842a_ad7b_11ea_9647_95ebb8726e2frow21_col3\" class=\"data row21 col3\" >0.100000</td>\n",
       "                        <td id=\"T_015e842a_ad7b_11ea_9647_95ebb8726e2frow21_col4\" class=\"data row21 col4\" >0.686403</td>\n",
       "                        <td id=\"T_015e842a_ad7b_11ea_9647_95ebb8726e2frow21_col5\" class=\"data row21 col5\" >1.004903</td>\n",
       "                        <td id=\"T_015e842a_ad7b_11ea_9647_95ebb8726e2frow21_col6\" class=\"data row21 col6\" >22</td>\n",
       "            </tr>\n",
       "            <tr>\n",
       "                                <td id=\"T_015e842a_ad7b_11ea_9647_95ebb8726e2frow22_col0\" class=\"data row22 col0\" >gaussian</td>\n",
       "                        <td id=\"T_015e842a_ad7b_11ea_9647_95ebb8726e2frow22_col1\" class=\"data row22 col1\" >0.010000</td>\n",
       "                        <td id=\"T_015e842a_ad7b_11ea_9647_95ebb8726e2frow22_col2\" class=\"data row22 col2\" >10</td>\n",
       "                        <td id=\"T_015e842a_ad7b_11ea_9647_95ebb8726e2frow22_col3\" class=\"data row22 col3\" >0.100000</td>\n",
       "                        <td id=\"T_015e842a_ad7b_11ea_9647_95ebb8726e2frow22_col4\" class=\"data row22 col4\" >0.654342</td>\n",
       "                        <td id=\"T_015e842a_ad7b_11ea_9647_95ebb8726e2frow22_col5\" class=\"data row22 col5\" >1.006046</td>\n",
       "                        <td id=\"T_015e842a_ad7b_11ea_9647_95ebb8726e2frow22_col6\" class=\"data row22 col6\" >23</td>\n",
       "            </tr>\n",
       "            <tr>\n",
       "                                <td id=\"T_015e842a_ad7b_11ea_9647_95ebb8726e2frow23_col0\" class=\"data row23 col0\" >gaussian</td>\n",
       "                        <td id=\"T_015e842a_ad7b_11ea_9647_95ebb8726e2frow23_col1\" class=\"data row23 col1\" >0.001000</td>\n",
       "                        <td id=\"T_015e842a_ad7b_11ea_9647_95ebb8726e2frow23_col2\" class=\"data row23 col2\" >10</td>\n",
       "                        <td id=\"T_015e842a_ad7b_11ea_9647_95ebb8726e2frow23_col3\" class=\"data row23 col3\" >0.100000</td>\n",
       "                        <td id=\"T_015e842a_ad7b_11ea_9647_95ebb8726e2frow23_col4\" class=\"data row23 col4\" >0.652220</td>\n",
       "                        <td id=\"T_015e842a_ad7b_11ea_9647_95ebb8726e2frow23_col5\" class=\"data row23 col5\" >1.006957</td>\n",
       "                        <td id=\"T_015e842a_ad7b_11ea_9647_95ebb8726e2frow23_col6\" class=\"data row23 col6\" >24</td>\n",
       "            </tr>\n",
       "            <tr>\n",
       "                                <td id=\"T_015e842a_ad7b_11ea_9647_95ebb8726e2frow24_col0\" class=\"data row24 col0\" >gaussian</td>\n",
       "                        <td id=\"T_015e842a_ad7b_11ea_9647_95ebb8726e2frow24_col1\" class=\"data row24 col1\" >0.200000</td>\n",
       "                        <td id=\"T_015e842a_ad7b_11ea_9647_95ebb8726e2frow24_col2\" class=\"data row24 col2\" >10</td>\n",
       "                        <td id=\"T_015e842a_ad7b_11ea_9647_95ebb8726e2frow24_col3\" class=\"data row24 col3\" >0.100000</td>\n",
       "                        <td id=\"T_015e842a_ad7b_11ea_9647_95ebb8726e2frow24_col4\" class=\"data row24 col4\" >0.725026</td>\n",
       "                        <td id=\"T_015e842a_ad7b_11ea_9647_95ebb8726e2frow24_col5\" class=\"data row24 col5\" >1.010109</td>\n",
       "                        <td id=\"T_015e842a_ad7b_11ea_9647_95ebb8726e2frow24_col6\" class=\"data row24 col6\" >25</td>\n",
       "            </tr>\n",
       "            <tr>\n",
       "                                <td id=\"T_015e842a_ad7b_11ea_9647_95ebb8726e2frow25_col0\" class=\"data row25 col0\" >gaussian</td>\n",
       "                        <td id=\"T_015e842a_ad7b_11ea_9647_95ebb8726e2frow25_col1\" class=\"data row25 col1\" >0.100000</td>\n",
       "                        <td id=\"T_015e842a_ad7b_11ea_9647_95ebb8726e2frow25_col2\" class=\"data row25 col2\" >100</td>\n",
       "                        <td id=\"T_015e842a_ad7b_11ea_9647_95ebb8726e2frow25_col3\" class=\"data row25 col3\" >0.100000</td>\n",
       "                        <td id=\"T_015e842a_ad7b_11ea_9647_95ebb8726e2frow25_col4\" class=\"data row25 col4\" >0.385671</td>\n",
       "                        <td id=\"T_015e842a_ad7b_11ea_9647_95ebb8726e2frow25_col5\" class=\"data row25 col5\" >1.017595</td>\n",
       "                        <td id=\"T_015e842a_ad7b_11ea_9647_95ebb8726e2frow25_col6\" class=\"data row25 col6\" >26</td>\n",
       "            </tr>\n",
       "            <tr>\n",
       "                                <td id=\"T_015e842a_ad7b_11ea_9647_95ebb8726e2frow26_col0\" class=\"data row26 col0\" >gaussian</td>\n",
       "                        <td id=\"T_015e842a_ad7b_11ea_9647_95ebb8726e2frow26_col1\" class=\"data row26 col1\" >0.010000</td>\n",
       "                        <td id=\"T_015e842a_ad7b_11ea_9647_95ebb8726e2frow26_col2\" class=\"data row26 col2\" >100</td>\n",
       "                        <td id=\"T_015e842a_ad7b_11ea_9647_95ebb8726e2frow26_col3\" class=\"data row26 col3\" >auto</td>\n",
       "                        <td id=\"T_015e842a_ad7b_11ea_9647_95ebb8726e2frow26_col4\" class=\"data row26 col4\" >0.617609</td>\n",
       "                        <td id=\"T_015e842a_ad7b_11ea_9647_95ebb8726e2frow26_col5\" class=\"data row26 col5\" >1.021589</td>\n",
       "                        <td id=\"T_015e842a_ad7b_11ea_9647_95ebb8726e2frow26_col6\" class=\"data row26 col6\" >27</td>\n",
       "            </tr>\n",
       "            <tr>\n",
       "                                <td id=\"T_015e842a_ad7b_11ea_9647_95ebb8726e2frow27_col0\" class=\"data row27 col0\" >gaussian</td>\n",
       "                        <td id=\"T_015e842a_ad7b_11ea_9647_95ebb8726e2frow27_col1\" class=\"data row27 col1\" >0.010000</td>\n",
       "                        <td id=\"T_015e842a_ad7b_11ea_9647_95ebb8726e2frow27_col2\" class=\"data row27 col2\" >100</td>\n",
       "                        <td id=\"T_015e842a_ad7b_11ea_9647_95ebb8726e2frow27_col3\" class=\"data row27 col3\" >0.100000</td>\n",
       "                        <td id=\"T_015e842a_ad7b_11ea_9647_95ebb8726e2frow27_col4\" class=\"data row27 col4\" >0.319579</td>\n",
       "                        <td id=\"T_015e842a_ad7b_11ea_9647_95ebb8726e2frow27_col5\" class=\"data row27 col5\" >1.021861</td>\n",
       "                        <td id=\"T_015e842a_ad7b_11ea_9647_95ebb8726e2frow27_col6\" class=\"data row27 col6\" >28</td>\n",
       "            </tr>\n",
       "            <tr>\n",
       "                                <td id=\"T_015e842a_ad7b_11ea_9647_95ebb8726e2frow28_col0\" class=\"data row28 col0\" >gaussian</td>\n",
       "                        <td id=\"T_015e842a_ad7b_11ea_9647_95ebb8726e2frow28_col1\" class=\"data row28 col1\" >0.001000</td>\n",
       "                        <td id=\"T_015e842a_ad7b_11ea_9647_95ebb8726e2frow28_col2\" class=\"data row28 col2\" >100</td>\n",
       "                        <td id=\"T_015e842a_ad7b_11ea_9647_95ebb8726e2frow28_col3\" class=\"data row28 col3\" >auto</td>\n",
       "                        <td id=\"T_015e842a_ad7b_11ea_9647_95ebb8726e2frow28_col4\" class=\"data row28 col4\" >0.615242</td>\n",
       "                        <td id=\"T_015e842a_ad7b_11ea_9647_95ebb8726e2frow28_col5\" class=\"data row28 col5\" >1.022497</td>\n",
       "                        <td id=\"T_015e842a_ad7b_11ea_9647_95ebb8726e2frow28_col6\" class=\"data row28 col6\" >29</td>\n",
       "            </tr>\n",
       "            <tr>\n",
       "                                <td id=\"T_015e842a_ad7b_11ea_9647_95ebb8726e2frow29_col0\" class=\"data row29 col0\" >gaussian</td>\n",
       "                        <td id=\"T_015e842a_ad7b_11ea_9647_95ebb8726e2frow29_col1\" class=\"data row29 col1\" >0.010000</td>\n",
       "                        <td id=\"T_015e842a_ad7b_11ea_9647_95ebb8726e2frow29_col2\" class=\"data row29 col2\" >100</td>\n",
       "                        <td id=\"T_015e842a_ad7b_11ea_9647_95ebb8726e2frow29_col3\" class=\"data row29 col3\" >scale</td>\n",
       "                        <td id=\"T_015e842a_ad7b_11ea_9647_95ebb8726e2frow29_col4\" class=\"data row29 col4\" >0.633445</td>\n",
       "                        <td id=\"T_015e842a_ad7b_11ea_9647_95ebb8726e2frow29_col5\" class=\"data row29 col5\" >1.022685</td>\n",
       "                        <td id=\"T_015e842a_ad7b_11ea_9647_95ebb8726e2frow29_col6\" class=\"data row29 col6\" >30</td>\n",
       "            </tr>\n",
       "    </tbody></table>"
      ],
      "text/plain": [
       "<pandas.io.formats.style.Styler at 0x7faed44906a0>"
      ]
     },
     "execution_count": 6,
     "metadata": {},
     "output_type": "execute_result"
    }
   ],
   "source": [
    "import pandas as pd\n",
    "\n",
    "df = pd.DataFrame(grid.cv_results_)[['param_estimator__kernel', 'param_estimator__epsilon', \n",
    "                                     'param_estimator__C', 'param_estimator__gamma', \n",
    "                                     'mean_train_score', 'mean_test_score', \n",
    "                                     'rank_test_score']].sort_values(by='rank_test_score')\n",
    "df.rename(columns={'param_estimator__kernel': 'kernel',\n",
    "                   'param_estimator__epsilon': 'epsilon',\n",
    "                   'param_estimator__C': 'C',\n",
    "                   'param_estimator__gamma': 'gamma',\n",
    "                   'mean_test_score': 'mean_val_score',\n",
    "                   'rank_test_score': 'rank_val_score'}, inplace=True)\n",
    "df.mean_train_score *= -1\n",
    "df.mean_val_score *= -1\n",
    "\n",
    "def highlight_equal(s, value, column):\n",
    "    is_max = pd.Series(data=False, index=s.index)\n",
    "    is_max[column] = s.loc[column] == value\n",
    "    return ['background-color: lightyellow' if is_max.any() else '' for v in is_max]\n",
    "\n",
    "df.head(30).style.apply(highlight_equal, value=1, column=['rank_val_score'], axis=1).hide_index()"
   ]
  },
  {
   "cell_type": "markdown",
   "metadata": {},
   "source": [
    "So, the MEE score on the *evaluation set* (TS) is:"
   ]
  },
  {
   "cell_type": "code",
   "execution_count": 7,
   "metadata": {
    "hideCode": true,
    "hidePrompt": true
   },
   "outputs": [
    {
     "data": {
      "text/plain": [
       "0.6990241761786792"
      ]
     },
     "execution_count": 7,
     "metadata": {},
     "output_type": "execute_result"
    }
   ],
   "source": [
    "mean_euclidean_error(grid.best_estimator_.predict(X_test), y_test)"
   ]
  },
  {
   "cell_type": "markdown",
   "metadata": {},
   "source": [
    "Finally, refit the best model on the whole dataset and then save the predictions over blind test set."
   ]
  },
  {
   "cell_type": "code",
   "execution_count": 9,
   "metadata": {
    "hideCode": true,
    "hidePrompt": true
   },
   "outputs": [],
   "source": [
    "grid.best_estimator_.fit(X, y)\n",
    "np.savetxt(module_path + '/optiml/ml/data/ML-CUP19/dmeoli_ML-CUP19-TS.csv', \n",
    "           grid.best_estimator_.predict(load_ml_cup_blind()), delimiter=',')"
   ]
  },
  {
   "cell_type": "markdown",
   "metadata": {},
   "source": [
    "The predicted results with the best estimator found trough the previously performed model selection are available in the ***dmeoli_ML-CUP19-TS.csv*** file."
   ]
  },
  {
   "cell_type": "markdown",
   "metadata": {},
   "source": [
    "## Conclusions"
   ]
  },
  {
   "cell_type": "markdown",
   "metadata": {},
   "source": [
    "The choice to train a SVR rather than a *Neural Network* was dictated by my personal fascination about the versatility of the SVM formulation in such differents ways. From the most immediate and simplest, i.e, as a *primal formulation* which gives rise to an unconstrained optimization problem, going from more complex and powerful formulation, i.e, as a constrained quadratic optimization problem deriving from the *Wolfe dual* of the primal problem; up to formulations as constraints relaxation, e.g., as an unconstrained quadratic optimization problem deriving from the *Lagrangian bi-dual relaxation* of the constraints in the Wolfe dual.\n",
    "\n",
    "Also, for performance and efficiency reasons, the training phase over ML-CUP19 was done with a custom reimplementation of the Platt's *Sequential Minimal Optimization* algorithm [[1]](#ref-1) (see [[2]](#ref-2) for improvements) initially developed for the classification problem and then adapted [[3]](#ref-3) and improved [[4]](#ref-4) also for regression. According to the state of art, it is considered the best-known way to train a SVM in its *Wolfe dual* formulation since it breaks up the original large QP problem into a series of smallest possible problems, which are then solved analytically."
   ]
  },
  {
   "cell_type": "markdown",
   "metadata": {},
   "source": [
    "## Acknowledgements"
   ]
  },
  {
   "cell_type": "markdown",
   "metadata": {},
   "source": [
    "I agree to the disclosure and publication of my name, and of the results with preliminary and final ranking."
   ]
  },
  {
   "cell_type": "markdown",
   "metadata": {},
   "source": [
    "## References\n",
    "\n"
   ]
  },
  {
   "cell_type": "markdown",
   "metadata": {},
   "source": [
    "[[1]](#ref-1) John C. Platt. _Sequential Minimal Optimization: A Fast Algorithm for Training Support Vector Machines._\n",
    "\n",
    "[[2]](#ref-2) S.S. Keerthi, S.K. Shevade, C. Bhattacharyya, K.R.K. Murthy. _Improvements to Platt's SMO Algorithm for SVM Classifier Design._\n",
    "\n",
    "[[3]](#ref-3) G. W. Flake, S. Lawrence. _Efficient SVM Regression Training with SMO._\n",
    "\n",
    "[[4]](#ref-4) S.K. Shevade, S.S. Keerthi, C. Bhattacharyya, K.R.K. Murthy. _Improvements to SMO Algorithm for SVM Regression._"
   ]
  }
 ],
 "metadata": {
  "celltoolbar": "Hide code",
  "kernelspec": {
   "display_name": "Python 3",
   "language": "python",
   "name": "python3"
  },
  "language_info": {
   "codemirror_mode": {
    "name": "ipython",
    "version": 3
   },
   "file_extension": ".py",
   "mimetype": "text/x-python",
   "name": "python",
   "nbconvert_exporter": "python",
   "pygments_lexer": "ipython3",
   "version": "3.8.2"
  }
 },
 "nbformat": 4,
 "nbformat_minor": 4
}
