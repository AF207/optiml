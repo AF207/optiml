{
 "cells": [
  {
   "cell_type": "code",
   "execution_count": 1,
   "metadata": {},
   "outputs": [],
   "source": [
    "import os\n",
    "import sys\n",
    "\n",
    "module_path = os.path.abspath(os.path.join('../..'))\n",
    "\n",
    "if module_path not in sys.path:\n",
    "    sys.path.append(module_path)"
   ]
  },
  {
   "cell_type": "markdown",
   "metadata": {},
   "source": [
    "# <center>Machine Learning Report</center>\n",
    "### <center>Donato Meoli</center>\n",
    "\n",
    "<center>Machine Learning course 654AA</center>\n",
    "<center>Academic year: 2019/2020</center>\n",
    "\n",
    "<center>Type of project: A with Computational Mathematics</center>"
   ]
  },
  {
   "cell_type": "markdown",
   "metadata": {},
   "source": [
    "## Abstract"
   ]
  },
  {
   "cell_type": "markdown",
   "metadata": {},
   "source": [
    "**OptiML** is a sklearn compatible custom reimplementation of *Support Vector Machines* and *Deep Neural Networks*, both with some of the most successful features according to the state of art.\n",
    "\n",
    "This work was motivated by the possibility of being able to solve the optimization problem deriving from the mathematical formulation of these models through a wide range of optimization algorithms object of study and developed for the Computational Mathematics course.\n",
    "\n",
    "The scope of this report excludes the implementation details but is just to show the results over the *Monk's* classification problem and the *Grid Search* results over **ML-CUP19** regression problem. The latter refers to an academic competition within the Machine Learning course for which a **MEE** of **0.75** was achieved using a **Support Vector Regression** with **Laplacian kernel**.\n",
    "\n",
    "The choice to train a SVR rather than any other models was dictated by my personal fascination about the versatility of the SVM formulation in such a differents ways. From the most immediate and simplest i.e, as a *primal formulation* which gives rise to an unconstrained optimization problem, going from more complex and powerful formulation i.e, as a constrained quadratic optimization problem deriving from the *Wolfe dual* of the primal problem; up to formulations as mathematical artifacts e.g., as an unconstrained quadratic optimization problem deriving from the *Lagrangian bi-dual relaxation* of the constraints in the Wolfe dual.\n",
    "\n",
    "For performance and efficiency reasons, the training phase over ML-CUP19 in the grid search was done with a custom reimplementation of the Platt's *Sequential Minimization Optimization* algorithm which is the best-known way to train a SVM in its Wolfe dual formulation, since it breaks up the original large QP problem into a series of smallest possible problems, which are then solved analytically."
   ]
  },
  {
   "cell_type": "markdown",
   "metadata": {},
   "source": [
    "## Monk's Problem"
   ]
  },
  {
   "cell_type": "markdown",
   "metadata": {},
   "source": [
    "### Support Vector Classifier"
   ]
  },
  {
   "cell_type": "code",
   "execution_count": 2,
   "metadata": {},
   "outputs": [],
   "source": [
    "import numpy as np\n",
    "\n",
    "from optiml.ml.svm import DualSVC\n",
    "from optiml.ml.svm.kernels import PolyKernel\n",
    "\n",
    "from sklearn.datasets import fetch_openml\n",
    "from sklearn.preprocessing import OneHotEncoder\n",
    "from sklearn.metrics import classification_report"
   ]
  },
  {
   "cell_type": "markdown",
   "metadata": {},
   "source": [
    "#### Monk #1"
   ]
  },
  {
   "cell_type": "code",
   "execution_count": 3,
   "metadata": {},
   "outputs": [
    {
     "name": "stdout",
     "output_type": "stream",
     "text": [
      "iter\t cost\n",
      "   0\t-1.3103e+01\n",
      "   5\t-1.5372e+01\n",
      "  10\t-1.5373e+01\n",
      "  15\t-1.5650e+01\n",
      "  20\t-1.5653e+01\n",
      "  25\t-1.5653e+01\n",
      "\n",
      "              precision    recall  f1-score   support\n",
      "\n",
      "         0.0       1.00      1.00      1.00       216\n",
      "         1.0       1.00      1.00      1.00       216\n",
      "\n",
      "    accuracy                           1.00       432\n",
      "   macro avg       1.00      1.00      1.00       432\n",
      "weighted avg       1.00      1.00      1.00       432\n",
      "\n"
     ]
    }
   ],
   "source": [
    "X, y = fetch_openml('monks-problems-1', return_X_y=True)\n",
    "y = y.astype(np.float32)\n",
    "\n",
    "X_train = OneHotEncoder(sparse=False).fit_transform(X[:124,:])\n",
    "X_test = OneHotEncoder(sparse=False).fit_transform(X[124:,:])\n",
    "y_train, y_test = y[:124], y[124:]\n",
    "    \n",
    "svc = DualSVC(kernel=PolyKernel(degree=3, gamma='scale'), verbose=5)\n",
    "svc.fit(X_train, y_train)\n",
    "print(classification_report(y_test, svc.predict(X_test)))"
   ]
  },
  {
   "cell_type": "markdown",
   "metadata": {},
   "source": [
    "#### Monk #2"
   ]
  },
  {
   "cell_type": "code",
   "execution_count": 4,
   "metadata": {},
   "outputs": [
    {
     "name": "stdout",
     "output_type": "stream",
     "text": [
      "iter\t cost\n",
      "   0\t-1.2859e+02\n",
      "   5\t-3.4749e+02\n",
      "  10\t-3.6481e+02\n",
      "  15\t-3.6638e+02\n",
      "  20\t-3.6654e+02\n",
      "  25\t-3.6655e+02\n",
      "  30\t-3.6655e+02\n",
      "  35\t-3.6655e+02\n",
      "\n",
      "              precision    recall  f1-score   support\n",
      "\n",
      "         0.0       1.00      1.00      1.00       290\n",
      "         1.0       1.00      1.00      1.00       142\n",
      "\n",
      "    accuracy                           1.00       432\n",
      "   macro avg       1.00      1.00      1.00       432\n",
      "weighted avg       1.00      1.00      1.00       432\n",
      "\n"
     ]
    }
   ],
   "source": [
    "X, y = fetch_openml('monks-problems-2', return_X_y=True)\n",
    "y = y.astype(np.float32)\n",
    "\n",
    "X_train = OneHotEncoder(sparse=False).fit_transform(X[:169,:])\n",
    "X_test = OneHotEncoder(sparse=False).fit_transform(X[169:,:])\n",
    "y_train, y_test = y[:169], y[169:]\n",
    "\n",
    "svc = DualSVC(kernel=PolyKernel(degree=2, gamma='scale'), C=1000, verbose=5)\n",
    "svc.fit(X_train, y_train)\n",
    "print(classification_report(y_test, svc.predict(X_test)))"
   ]
  },
  {
   "cell_type": "markdown",
   "metadata": {},
   "source": [
    "#### Monk #3"
   ]
  },
  {
   "cell_type": "code",
   "execution_count": 5,
   "metadata": {},
   "outputs": [
    {
     "name": "stdout",
     "output_type": "stream",
     "text": [
      "iter\t cost\n",
      "   0\t-2.4690e+03\n",
      "   5\t-2.5680e+03\n",
      "  10\t-2.6527e+03\n",
      "  15\t-2.6544e+03\n",
      "\n",
      "              precision    recall  f1-score   support\n",
      "\n",
      "         0.0       0.95      0.99      0.97       204\n",
      "         1.0       0.99      0.95      0.97       228\n",
      "\n",
      "    accuracy                           0.97       432\n",
      "   macro avg       0.97      0.97      0.97       432\n",
      "weighted avg       0.97      0.97      0.97       432\n",
      "\n"
     ]
    }
   ],
   "source": [
    "X, y = fetch_openml('monks-problems-3', return_X_y=True)\n",
    "y = y.astype(np.float32)\n",
    "\n",
    "X_train = OneHotEncoder(sparse=False).fit_transform(X[:122,:])\n",
    "X_test = OneHotEncoder(sparse=False).fit_transform(X[122:,:])\n",
    "y_train, y_test = y[:122], y[122:]\n",
    "\n",
    "svc = DualSVC(kernel=PolyKernel(degree=4, gamma='auto'), C=100, verbose=5)\n",
    "svc.fit(X_train, y_train)\n",
    "print(classification_report(y_test, svc.predict(X_test)))"
   ]
  },
  {
   "cell_type": "markdown",
   "metadata": {},
   "source": [
    "### Neural Network Classifier"
   ]
  },
  {
   "cell_type": "code",
   "execution_count": 6,
   "metadata": {},
   "outputs": [],
   "source": [
    "import numpy as np\n",
    "\n",
    "from optiml.ml.neural_network import NeuralNetworkClassifier\n",
    "from optiml.ml.neural_network.layers import FullyConnected\n",
    "\n",
    "from sklearn.datasets import fetch_openml\n",
    "from sklearn.preprocessing import OneHotEncoder\n",
    "from sklearn.metrics import classification_report"
   ]
  },
  {
   "cell_type": "markdown",
   "metadata": {},
   "source": [
    "#### Monk #1"
   ]
  },
  {
   "cell_type": "code",
   "execution_count": 8,
   "metadata": {},
   "outputs": [
    {
     "name": "stdout",
     "output_type": "stream",
     "text": [
      "iter\tfeval\t cost\t\t gnorm\t\tls\tit\t astar\n",
      "   0\t   1\t 1.5845e-01\t 7.8432e-02\t 7\t 0\t 1.8817e+00\n",
      "  10\t  19\t 1.2815e-01\t 1.9693e-02\t 1\t 0\t 1.0000e+00\n",
      "  20\t 143\t 1.1415e-01\t 1.4827e-02\t 8\t 0\t 2.0908e+00\n",
      "  30\t 373\t 8.1338e-02\t 1.0951e-02\t18\t 0\t 5.9962e+00\n",
      "  40\t 615\t 7.0588e-02\t 6.6323e-03\t34\t 0\t 3.2359e+01\n",
      "  50\t 851\t 6.5322e-02\t 4.5712e-03\t27\t 0\t 1.5477e+01\n",
      "  60\t1120\t 6.2058e-02\t 3.0154e-03\t22\t 0\t 9.1392e+00\n",
      "  70\t1374\t 6.0171e-02\t 2.4726e-03\t14\t 0\t 3.9341e+00\n",
      "  80\t1569\t 5.8314e-02\t 3.2662e-03\t 4\t 0\t 1.3717e+00\n",
      "  90\t1719\t 5.7809e-02\t 2.3636e-03\t26\t 0\t 1.3930e+01\n",
      " 100\t1890\t 4.8478e-02\t 1.1735e-02\t 1\t 0\t 1.0000e+00\n",
      " 110\t2002\t 4.6367e-02\t 6.0037e-03\t20\t 0\t 7.4027e+00\n",
      " 120\t2196\t 3.3080e-02\t 5.9692e-03\t21\t 0\t 8.2253e+00\n",
      " 130\t2458\t 2.6320e-02\t 4.5050e-03\t23\t 0\t 1.0155e+01\n",
      " 140\t2725\t 2.2706e-02\t 4.1295e-03\t12\t 0\t 3.1866e+00\n",
      " 150\t2975\t 1.9985e-02\t 4.2641e-03\t10\t 0\t 2.5812e+00\n",
      " 160\t3117\t 1.5381e-02\t 4.1277e-03\t18\t 0\t 5.9962e+00\n",
      " 170\t3334\t 1.2538e-02\t 3.8255e-03\t37\t 0\t 4.4388e+01\n",
      " 180\t3609\t 8.4957e-03\t 3.0807e-03\t38\t 0\t 4.9320e+01\n",
      " 190\t3907\t 5.6414e-03\t 2.4498e-03\t29\t 0\t 1.9108e+01\n",
      " 200\t4222\t 4.1063e-03\t 2.0929e-03\t22\t 0\t 9.1392e+00\n",
      " 210\t4593\t 2.4641e-03\t 1.3744e-03\t27\t 0\t 1.5477e+01\n",
      " 220\t4994\t 1.4992e-03\t 8.4693e-04\t36\t 0\t 3.9950e+01\n",
      " 230\t5450\t 8.5905e-04\t 4.8644e-04\t58\t 0\t 4.0567e+02\n",
      " 240\t5996\t 4.1551e-04\t 2.4558e-04\t60\t 0\t 5.0083e+02\n",
      " 250\t6591\t 2.1137e-04\t 1.3345e-04\t53\t 0\t 2.3955e+02\n",
      " 260\t7227\t 1.1939e-04\t 7.3949e-05\t71\t 0\t 1.5960e+03\n",
      " 270\t7938\t 5.9604e-05\t 3.8281e-05\t72\t 0\t 1.7733e+03\n",
      " 280\t8686\t 3.4069e-05\t 2.2034e-05\t86\t 0\t 7.7515e+03\n",
      " 290\t9519\t 1.5979e-05\t 1.0626e-05\t89\t 0\t 1.0633e+04\n",
      " 300\t10383\t 9.5774e-06\t 6.4263e-06\t96\t 0\t 2.2231e+04\n",
      " 310\t11300\t 5.6078e-06\t 3.8049e-06\t99\t 0\t 3.0495e+04\n",
      " 320\t12266\t 3.2694e-06\t 2.2334e-06\t104\t 0\t 5.1644e+04\n",
      " 330\t13280\t 1.9367e-06\t 1.3314e-06\t109\t 0\t 8.7460e+04\n",
      "\n",
      "              precision    recall  f1-score   support\n",
      "\n",
      "         0.0       1.00      1.00      1.00       216\n",
      "         1.0       1.00      1.00      1.00       216\n",
      "\n",
      "    accuracy                           1.00       432\n",
      "   macro avg       1.00      1.00      1.00       432\n",
      "weighted avg       1.00      1.00      1.00       432\n",
      "\n"
     ]
    }
   ],
   "source": [
    "from optiml.ml.neural_network.activations import sigmoid\n",
    "from optiml.ml.neural_network.losses import mean_squared_error\n",
    "\n",
    "from optiml.opti.unconstrained.line_search import SteepestGradientDescent\n",
    "\n",
    "X, y = fetch_openml('monks-problems-1', return_X_y=True)\n",
    "y = y.astype(np.float32)\n",
    "\n",
    "X_train = OneHotEncoder(sparse=False).fit_transform(X[:124,:])\n",
    "X_test = OneHotEncoder(sparse=False).fit_transform(X[124:,:])\n",
    "y_train, y_test = y[:124], y[124:]\n",
    "\n",
    "net = NeuralNetworkClassifier((FullyConnected(17, 5, sigmoid),\n",
    "                               FullyConnected(5, 1, sigmoid)),\n",
    "                              loss=mean_squared_error, optimizer=SteepestGradientDescent, \n",
    "                              max_iter=400, max_f_eval=15000, verbose=10)\n",
    "net.fit(X_train, y_train)\n",
    "print(classification_report(y_test, net.predict(X_test)))"
   ]
  },
  {
   "cell_type": "markdown",
   "metadata": {},
   "source": [
    "#### Monk #2"
   ]
  },
  {
   "cell_type": "code",
   "execution_count": 11,
   "metadata": {},
   "outputs": [
    {
     "name": "stdout",
     "output_type": "stream",
     "text": [
      "iter\tfeval\t cost\t\t gnorm\t\tls\tit\t astar\n",
      "   0\t   1\t 3.3751e-01\t 5.9291e-02\t 1\t 0\t 1.0000e+00\n",
      "  10\t  64\t 3.2799e-01\t 2.3698e-02\t21\t 0\t 8.2253e+00\n",
      "  20\t 164\t 3.1940e-01\t 1.8081e-02\t18\t 0\t 5.9962e+00\n",
      "  30\t 262\t 3.1478e-01\t 1.4314e-02\t21\t 0\t 8.2253e+00\n",
      "  40\t 390\t 2.9666e-01\t 3.0243e-02\t21\t 0\t 8.2253e+00\n",
      "  50\t 546\t 1.8970e-01\t 4.4960e-02\t 7\t 0\t 1.8817e+00\n",
      "  60\t 673\t 8.9547e-02\t 5.1871e-02\t13\t 0\t 3.5407e+00\n",
      "  70\t 790\t 4.9387e-02\t 3.5782e-02\t 1\t 0\t 1.0000e+00\n",
      "  80\t 910\t 2.9893e-02\t 2.2261e-02\t22\t 0\t 9.1392e+00\n",
      "  90\t1082\t 1.7595e-02\t 1.4378e-02\t15\t 0\t 4.3712e+00\n",
      " 100\t1288\t 1.0942e-02\t 9.0844e-03\t34\t 0\t 3.2359e+01\n",
      " 110\t1573\t 5.7094e-03\t 4.9505e-03\t39\t 0\t 5.4801e+01\n",
      " 120\t1917\t 2.9816e-03\t 2.7619e-03\t29\t 0\t 1.9108e+01\n",
      " 130\t2287\t 1.8559e-03\t 1.7461e-03\t34\t 0\t 3.2359e+01\n",
      " 140\t2706\t 1.0834e-03\t 1.0012e-03\t53\t 0\t 2.3955e+02\n",
      " 150\t3196\t 5.8538e-04\t 5.6919e-04\t45\t 0\t 1.0312e+02\n",
      " 160\t3726\t 3.3849e-04\t 3.3113e-04\t51\t 0\t 1.9403e+02\n",
      " 170\t4308\t 1.9526e-04\t 1.9035e-04\t61\t 0\t 5.5648e+02\n",
      " 180\t4935\t 1.1840e-04\t 1.1592e-04\t67\t 0\t 1.0471e+03\n",
      " 190\t5613\t 6.9996e-05\t 6.8925e-05\t74\t 0\t 2.1893e+03\n",
      " 200\t6345\t 4.0028e-05\t 3.9785e-05\t80\t 0\t 4.1195e+03\n",
      " 210\t7131\t 2.2808e-05\t 2.2941e-05\t85\t 0\t 6.9764e+03\n",
      " 220\t7970\t 1.2867e-05\t 1.3062e-05\t90\t 0\t 1.1815e+04\n",
      " 230\t8863\t 7.2582e-06\t 7.4779e-06\t94\t 0\t 1.8007e+04\n",
      " 240\t9808\t 4.1051e-06\t 4.2639e-06\t100\t 0\t 3.3884e+04\n",
      " 250\t10808\t 2.2964e-06\t 2.4143e-06\t104\t 0\t 5.1644e+04\n",
      " 260\t11863\t 1.2699e-06\t 1.3488e-06\t109\t 0\t 8.7460e+04\n",
      "\n",
      "              precision    recall  f1-score   support\n",
      "\n",
      "         0.0       1.00      1.00      1.00       290\n",
      "         1.0       1.00      1.00      1.00       142\n",
      "\n",
      "    accuracy                           1.00       432\n",
      "   macro avg       1.00      1.00      1.00       432\n",
      "weighted avg       1.00      1.00      1.00       432\n",
      "\n"
     ]
    }
   ],
   "source": [
    "from optiml.ml.neural_network.activations import sigmoid, softmax\n",
    "from optiml.ml.neural_network.losses import sparse_categorical_cross_entropy\n",
    "\n",
    "from optiml.opti.unconstrained.line_search import SteepestGradientDescent\n",
    "\n",
    "X, y = fetch_openml('monks-problems-2', return_X_y=True)\n",
    "y = y.astype(np.float32)\n",
    "\n",
    "X_train = OneHotEncoder(sparse=False).fit_transform(X[:169,:])\n",
    "X_test = OneHotEncoder(sparse=False).fit_transform(X[169:,:])\n",
    "y_train, y_test = y[:169], y[169:]\n",
    "\n",
    "net = NeuralNetworkClassifier((FullyConnected(17, 5, sigmoid),\n",
    "                               FullyConnected(5, 2, softmax)),\n",
    "                              loss=sparse_categorical_cross_entropy, \n",
    "                              optimizer=SteepestGradientDescent, \n",
    "                              max_iter=500, max_f_eval=15000, verbose=10)\n",
    "net.fit(X_train, y_train)\n",
    "print(classification_report(y_test, net.predict(X_test)))"
   ]
  },
  {
   "cell_type": "markdown",
   "metadata": {},
   "source": [
    "#### Monk #3"
   ]
  },
  {
   "cell_type": "code",
   "execution_count": 13,
   "metadata": {},
   "outputs": [
    {
     "name": "stdout",
     "output_type": "stream",
     "text": [
      "iter\tfeval\t cost\t\t gnorm\t\tls\tit\t astar\t\t rho\n",
      "   0\t   1\t 1.2976e-01\t 1.8780e-02\t19\t 0\t 6.6625e+00\t 4.1662e+03\n",
      "  10\t  29\t 5.8991e-02\t 3.6242e-02\t 1\t 0\t 1.0000e+00\t 2.3285e+02\n",
      "  20\t  39\t 4.8977e-02\t 3.2756e-03\t 1\t 0\t 1.0000e+00\t 1.9181e+03\n",
      "  30\t  49\t 4.6754e-02\t 3.4328e-03\t 1\t 0\t 1.0000e+00\t 7.7719e+03\n",
      "  40\t  59\t 4.6193e-02\t 1.2885e-03\t 1\t 0\t 1.0000e+00\t 5.5887e+05\n",
      "  50\t  69\t 4.5994e-02\t 8.4704e-04\t 1\t 0\t 1.0000e+00\t 2.2935e+05\n",
      "  60\t  79\t 4.5906e-02\t 6.8838e-04\t 1\t 0\t 1.0000e+00\t 8.9751e+04\n",
      "  70\t  89\t 4.5865e-02\t 2.2268e-04\t 1\t 0\t 1.0000e+00\t 1.3512e+06\n",
      "  80\t  99\t 4.5857e-02\t 2.6707e-04\t 1\t 0\t 1.0000e+00\t 1.4953e+07\n",
      "  90\t 109\t 4.5843e-02\t 2.0735e-04\t 1\t 0\t 1.0000e+00\t 1.0840e+07\n",
      " 100\t 119\t 4.5835e-02\t 2.2623e-04\t 1\t 0\t 1.0000e+00\t 1.8848e+06\n",
      " 110\t 129\t 4.5806e-02\t 2.9713e-04\t 1\t 0\t 1.0000e+00\t 6.6065e+05\n",
      " 120\t 139\t 4.5786e-02\t 2.7821e-04\t 1\t 0\t 1.0000e+00\t 2.9583e+05\n",
      " 130\t 149\t 4.5763e-02\t 3.3097e-04\t 1\t 0\t 1.0000e+00\t 1.8911e+05\n",
      " 140\t 159\t 4.5745e-02\t 2.2920e-04\t 1\t 0\t 1.0000e+00\t 5.9499e+05\n",
      " 150\t 169\t 4.5739e-02\t 1.7360e-04\t 1\t 0\t 1.0000e+00\t 1.6618e+06\n",
      " 160\t 179\t 4.5736e-02\t 8.7319e-05\t 1\t 0\t 1.0000e+00\t 8.3857e+06\n",
      " 170\t 189\t 4.5734e-02\t 7.7363e-05\t 1\t 0\t 1.0000e+00\t 4.5858e+07\n",
      " 180\t 199\t 4.5731e-02\t 8.6734e-05\t 1\t 0\t 1.0000e+00\t 9.1516e+07\n",
      " 190\t 209\t 4.5729e-02\t 5.9608e-05\t 1\t 0\t 1.0000e+00\t 4.5149e+08\n",
      " 200\t 219\t 4.5728e-02\t 6.5808e-05\t 1\t 0\t 1.0000e+00\t 3.1142e+08\n",
      " 210\t 229\t 4.5726e-02\t 5.0619e-05\t 1\t 0\t 1.0000e+00\t 1.3083e+08\n",
      " 220\t 239\t 4.5725e-02\t 4.3700e-05\t 1\t 0\t 1.0000e+00\t 1.6921e+08\n",
      " 230\t 249\t 4.5724e-02\t 2.1729e-05\t 1\t 0\t 1.0000e+00\t 4.9513e+08\n",
      " 240\t 259\t 4.5724e-02\t 1.3580e-05\t 1\t 0\t 1.0000e+00\t 5.3948e+08\n",
      " 250\t 269\t 4.5724e-02\t 7.4378e-06\t 1\t 0\t 1.0000e+00\t 9.9107e+08\n",
      " 260\t 279\t 4.5724e-02\t 1.2039e-05\t 1\t 0\t 1.0000e+00\t 1.3422e+09\n",
      " 270\t 289\t 4.5724e-02\t 3.3751e-05\t 1\t 0\t 1.0000e+00\t 9.0254e+08\n",
      " 280\t 299\t 4.5722e-02\t 7.6883e-05\t 1\t 0\t 1.0000e+00\t 1.9614e+07\n",
      " 290\t 309\t 4.5719e-02\t 7.5802e-05\t 1\t 0\t 1.0000e+00\t 1.3531e+06\n",
      " 300\t 319\t 4.5718e-02\t 1.0194e-04\t 1\t 0\t 1.0000e+00\t 1.0069e+07\n",
      " 310\t 329\t 4.5718e-02\t 3.0876e-05\t 1\t 0\t 1.0000e+00\t 3.6131e+07\n",
      " 320\t 339\t 4.5717e-02\t 3.3255e-05\t 1\t 0\t 1.0000e+00\t 1.2233e+07\n",
      " 330\t 349\t 4.5717e-02\t 3.9553e-05\t 1\t 0\t 1.0000e+00\t 6.1802e+06\n",
      " 340\t 359\t 4.5716e-02\t 4.6057e-05\t 1\t 0\t 1.0000e+00\t 6.8550e+06\n",
      " 350\t 369\t 4.5716e-02\t 3.0830e-05\t 1\t 0\t 1.0000e+00\t 1.6086e+07\n",
      " 360\t 379\t 4.5716e-02\t 9.2491e-06\t 1\t 0\t 1.0000e+00\t 1.1346e+08\n",
      " 370\t 389\t 4.5716e-02\t 2.2161e-06\t 1\t 0\t 1.0000e+00\t 1.5292e+09\n",
      " 380\t 399\t 4.5716e-02\t 1.4067e-06\t 1\t 0\t 1.0000e+00\t 3.5932e+09\n",
      " 390\t 409\t 4.5716e-02\t 2.4321e-06\t 1\t 0\t 1.0000e+00\t 3.6196e+09\n",
      " 400\t 419\t 4.5716e-02\t 2.4497e-06\t 1\t 0\t 1.0000e+00\t 1.5574e+10\n",
      "\n",
      "              precision    recall  f1-score   support\n",
      "\n",
      "         0.0       0.94      1.00      0.97       204\n",
      "         1.0       1.00      0.95      0.97       228\n",
      "\n",
      "    accuracy                           0.97       432\n",
      "   macro avg       0.97      0.97      0.97       432\n",
      "weighted avg       0.97      0.97      0.97       432\n",
      "\n"
     ]
    }
   ],
   "source": [
    "from optiml.ml.neural_network.activations import sigmoid, softmax\n",
    "from optiml.ml.neural_network.losses import categorical_cross_entropy\n",
    "from optiml.ml.neural_network.regularizers import L2\n",
    "\n",
    "from optiml.opti.unconstrained.line_search import BFGS\n",
    "\n",
    "from optiml.opti.unconstrained.stochastic import Adam\n",
    "\n",
    "X, y = fetch_openml('monks-problems-3', return_X_y=True)\n",
    "y = y.astype(np.float32)\n",
    "\n",
    "X_train = OneHotEncoder(sparse=False).fit_transform(X[:122,:])\n",
    "X_test = OneHotEncoder(sparse=False).fit_transform(X[122:,:])\n",
    "y_train, y_test = y[:122], y[122:]\n",
    "\n",
    "net = NeuralNetworkClassifier((FullyConnected(17, 10, sigmoid, coef_reg=L2(0.1), inter_reg=L2(0.1)),\n",
    "                               FullyConnected(10, 1, sigmoid, coef_reg=L2(0.1), inter_reg=L2(0.1))),\n",
    "                              loss=mean_squared_error, optimizer=BFGS, max_iter=500, max_f_eval=15000, verbose=10)\n",
    "net.fit(X_train, y_train)\n",
    "print(classification_report(y_test, net.predict(X_test)))"
   ]
  },
  {
   "cell_type": "markdown",
   "metadata": {},
   "source": [
    "## ML-CUP19"
   ]
  },
  {
   "cell_type": "code",
   "execution_count": 14,
   "metadata": {},
   "outputs": [],
   "source": [
    "import numpy as np\n",
    "\n",
    "def load_ml_cup():\n",
    "    ml_cup = np.delete(np.genfromtxt(module_path + '/optiml/ml/data/ML-CUP19/ML-CUP19-TR.csv', delimiter=','), obj=0, axis=1)\n",
    "    return ml_cup[:, :-2], ml_cup[:, -2:]\n",
    "\n",
    "def load_ml_cup_blind():\n",
    "    return np.delete(np.genfromtxt(module_path + '/optiml/ml/data/ML-CUP19/ML-CUP19-TS.csv', delimiter=','), obj=0, axis=1)"
   ]
  },
  {
   "cell_type": "code",
   "execution_count": 15,
   "metadata": {},
   "outputs": [],
   "source": [
    "def mean_euclidean_error(y_true, y_pred):\n",
    "    assert y_true.shape == y_pred.shape\n",
    "    return np.mean(np.linalg.norm(y_pred - y_true, axis=y_true.ndim - 1))  # for multi-output compatibility"
   ]
  },
  {
   "cell_type": "code",
   "execution_count": 3,
   "metadata": {},
   "outputs": [
    {
     "name": "stdout",
     "output_type": "stream",
     "text": [
      "Fitting 5 folds for each of 400 candidates, totalling 2000 fits\n"
     ]
    },
    {
     "name": "stderr",
     "output_type": "stream",
     "text": [
      "[Parallel(n_jobs=-1)]: Using backend LokyBackend with 8 concurrent workers.\n",
      "[Parallel(n_jobs=-1)]: Done  34 tasks      | elapsed:    4.9s\n",
      "[Parallel(n_jobs=-1)]: Done 184 tasks      | elapsed:   15.9s\n",
      "[Parallel(n_jobs=-1)]: Done 434 tasks      | elapsed:   33.1s\n",
      "[Parallel(n_jobs=-1)]: Done 784 tasks      | elapsed:  1.2min\n",
      "[Parallel(n_jobs=-1)]: Done 1234 tasks      | elapsed:  2.9min\n",
      "[Parallel(n_jobs=-1)]: Done 1784 tasks      | elapsed:  6.2min\n",
      "[Parallel(n_jobs=-1)]: Done 2000 out of 2000 | elapsed:  8.0min finished\n"
     ]
    },
    {
     "name": "stdout",
     "output_type": "stream",
     "text": [
      "best parameters: {'estimator__C': 100, 'estimator__epsilon': 0.001, 'estimator__gamma': 1e-08, 'estimator__kernel': <function laplacian_kernel at 0x7f8b7fa5d3a0>}\n",
      "best score: 0.7489511761793546\n"
     ]
    }
   ],
   "source": [
    "from optiml.ml.utils import plot_validation_curve, plot_learning_curve\n",
    "from optiml.ml.svm import DualSVR\n",
    "from optiml.ml.svm.kernels import gaussian, laplacian\n",
    "\n",
    "from sklearn.metrics import make_scorer\n",
    "from sklearn.model_selection import GridSearchCV\n",
    "from sklearn.multioutput import MultiOutputRegressor\n",
    "\n",
    "X, y = load_ml_cup()\n",
    "\n",
    "gamma_range = [1e-8, 1e-6, 1e-4, 1e-2]\n",
    "C_range = [1, 10, 100, 1000]\n",
    "epsilon_range = [0.001, 0.01, 0.1, 0.2, 0.3]\n",
    "\n",
    "tuned_parameters = {'estimator__kernel': [gaussian, laplacian],\n",
    "                    'estimator__epsilon': epsilon_range,\n",
    "                    'estimator__C': C_range,\n",
    "                    'estimator__kernel__gamma': gamma_range}\n",
    "\n",
    "grid = GridSearchCV(MultiOutputRegressor(DualSVR()),\n",
    "                    param_grid=tuned_parameters,\n",
    "                    scoring=make_scorer(mean_euclidean_error, greater_is_better=False),\n",
    "                    cv=5,  # 5 fold cross validation\n",
    "                    n_jobs=-1,  # use all processors\n",
    "                    refit=True,  # refit the best model on the full dataset\n",
    "                    verbose=True)\n",
    "grid.fit(X, y)\n",
    "print(f'best parameters: {grid.best_params_}')\n",
    "print(f'best score: {-grid.best_score_}')"
   ]
  },
  {
   "cell_type": "code",
   "execution_count": 2,
   "metadata": {},
   "outputs": [
    {
     "data": {
      "image/png": "[encoded data removed]",
      "text/plain": [
       "<Figure size 432x288 with 1 Axes>"
      ]
     },
     "metadata": {},
     "output_type": "display_data"
    },
    {
     "data": {
      "image/png": "[encoded data removed]",
      "text/plain": [
       "<Figure size 432x288 with 1 Axes>"
      ]
     },
     "metadata": {},
     "output_type": "display_data"
    },
    {
     "data": {
      "image/png": "[encoded data removed]",
      "text/plain": [
       "<Figure size 432x288 with 1 Axes>"
      ]
     },
     "metadata": {},
     "output_type": "display_data"
    },
    {
     "data": {
      "image/png": "[encoded data removed]",
      "text/plain": [
       "<Figure size 432x288 with 1 Axes>"
      ]
     },
     "metadata": {},
     "output_type": "display_data"
    }
   ],
   "source": [
    "scorer = make_scorer(mean_euclidean_error)\n",
    "\n",
    "# plot validation curve to visualize the performance metric over a\n",
    "# range of values for some hyperparameters (C, gamma, epsilon, etc.)\n",
    "plot_validation_curve(grid.best_estimator_, X, y, 'estimator__epsilon', epsilon_range, scorer)\n",
    "plot_validation_curve(grid.best_estimator_, X, y, 'estimator__C', C_range, scorer)\n",
    "plot_validation_curve(grid.best_estimator_, X, y, 'estimator__kernel__gamma', gamma_range, scorer)\n",
    "\n",
    "# plot learning curve to visualize the effect of the\n",
    "# number of observations on the performance metric\n",
    "plot_learning_curve(grid.best_estimator_, X, y, scorer)"
   ]
  },
  {
   "cell_type": "code",
   "execution_count": null,
   "metadata": {},
   "outputs": [],
   "source": [
    "# save predictions on the blind test set\n",
    "np.savetxt(module_path + '/optiml/ml/data/ML-CUP19/dmeoli_ML-CUP19-TS.csv', grid.predict(load_ml_cup_blind()), delimiter=',')"
   ]
  }
 ],
 "metadata": {
  "kernelspec": {
   "display_name": "Python 3",
   "language": "python",
   "name": "python3"
  },
  "language_info": {
   "codemirror_mode": {
    "name": "ipython",
    "version": 3
   },
   "file_extension": ".py",
   "mimetype": "text/x-python",
   "name": "python",
   "nbconvert_exporter": "python",
   "pygments_lexer": "ipython3",
   "version": "3.8.2"
  }
 },
 "nbformat": 4,
 "nbformat_minor": 4
}
