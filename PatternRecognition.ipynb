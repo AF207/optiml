{
 "cells": [
  {
   "cell_type": "markdown",
   "metadata": {},
   "source": [
    "# Pattern Recognition"
   ]
  },
  {
   "cell_type": "code",
   "execution_count": null,
   "metadata": {},
   "outputs": [],
   "source": [
    "from ml.activations import softmax, relu\n",
    "from ml.layers import FullyConnected, Conv2D, MaxPool2D, Flatten\n",
    "from ml.losses import cross_entropy\n",
    "from ml.neural_network import NeuralNetworkClassifier\n",
    "from optimization.unconstrained.adam import Adam\n",
    "from utils import load_mnist\n",
    "from sklearn.metrics import classification_report"
   ]
  },
  {
   "cell_type": "code",
   "execution_count": null,
   "metadata": {},
   "outputs": [],
   "source": [
    "X_train, X_test, y_train, y_test = load_mnist()\n",
    "\n",
    "cnn = NeuralNetworkClassifier(\n",
    "    (Conv2D(in_channels=1, out_channels=6, kernel_size=(5, 5), strides=(1, 1),\n",
    "            padding='same', channels_last=True, activation=relu),  # => [n,28,28,6]\n",
    "     MaxPool2D(pool_size=(2, 2), strides=(2, 2)),  # => [n, 14, 14, 6]\n",
    "     Conv2D(in_channels=6, out_channels=16, kernel_size=(5, 5), strides=(1, 1),\n",
    "            padding='same', channels_last=True, activation=relu),  # => [n,14,14,16]\n",
    "     MaxPool2D(pool_size=(2, 2), strides=(2, 2)),  # => [n,7,7,16]\n",
    "     Flatten(),  # => [n,7*7*16]\n",
    "     FullyConnected(n_in=7 * 7 * 16, n_out=10, activation=softmax)),\n",
    "    loss=cross_entropy, optimizer=Adam, learning_rate=0.001, momentum_type='nesterov',\n",
    "    momentum=0.9, epochs=300, batch_size=128, verbose=True, plot=True)\n",
    "cnn.fit(X_train, y_train, X_test, y_test)\n",
    "print(f'mnist classification report:\\n {classification_report(y_test, cnn.predict(X_test))}')"
   ]
  }
 ],
 "metadata": {
  "kernelspec": {
   "display_name": "Python 3",
   "language": "python",
   "name": "python3"
  },
  "language_info": {
   "name": ""
  }
 },
 "nbformat": 4,
 "nbformat_minor": 4
}
